{
 "cells": [
  {
   "cell_type": "code",
   "execution_count": 15,
   "metadata": {},
   "outputs": [],
   "source": [
    "import netCDF4 as nc\n",
    "import sys, os, argparse\n",
    "import time\n",
    "import numpy as np\n",
    "from numpy import ma as ma\n",
    "\n",
    "#Import packages for plotting\n",
    "from matplotlib import pyplot as plt\n",
    "from matplotlib import colors as mcolors\n",
    "import matplotlib.animation as animation\n",
    "from matplotlib.ticker import MaxNLocator\n",
    "from pylab import imshow,cm\n",
    "\n",
    "#Import packages for clustering\n",
    "from sklearn.cluster import KMeans\n",
    "from scipy.linalg import eigh\n",
    "\n",
    "#Import packages for geodesic distences\n",
    "from pyproj import Geod\n",
    "\n",
    "\n",
    "#Import packages for interpolating and filtering data\n",
    "from scipy.spatial import ConvexHull, convex_hull_plot_2d\n",
    "from scipy.interpolate import LinearNDInterpolator as LNDI\n",
    "\n",
    "# Import package for parallel computing\n",
    "from joblib import Parallel, delayed"
   ]
  },
  {
   "cell_type": "code",
   "execution_count": 16,
   "metadata": {},
   "outputs": [],
   "source": [
    "import sys, os\n",
    "import numpy as np\n",
    "\n",
    "# get current directory\n",
    "path = os.getcwd()\n",
    "# get parent directory\n",
    "parent_directory = os.path.sep.join(path.split(os.path.sep)[:-1])\n",
    "\n",
    "# add utils and subfunctions folders to current working path\n",
    "sys.path.append(parent_directory+\"/subfunctions/latlon_transform\")\n",
    "sys.path.append(parent_directory+\"/subfunctions/Similarity_matrix_construction\")\n",
    "\n",
    "# Import function for the polar rotation\n",
    "from ipynb.fs.defs.polar_rotation import polar_rotation_rx "
   ]
  },
  {
   "cell_type": "code",
   "execution_count": 17,
   "metadata": {},
   "outputs": [
    {
     "data": {
      "text/plain": [
       "'/home/llu/Programs/HPC_Spectral_Clustering'"
      ]
     },
     "execution_count": 17,
     "metadata": {},
     "output_type": "execute_result"
    }
   ],
   "source": [
    "parent_directory"
   ]
  },
  {
   "cell_type": "code",
   "execution_count": 18,
   "metadata": {},
   "outputs": [
    {
     "data": {
      "text/plain": [
       "'\\n# Create the parser\\nparser = argparse.ArgumentParser(description=\"Process some parameters for clustering.\")\\n# Add required arguments\\nparser.add_argument(\"Ncores\", type=int, help=\"Number of CPU\\'s\")\\nparser.add_argument(\"file_path\", type=str, help=\"Path to the file\")\\nparser.add_argument(\"geo_file_path\", type=str, help=\"Path to the file\")\\nparser.add_argument(\"parent_directory\", type=str, help=\"Parent directory\")\\nparser.add_argument(\"results_directory\", type=str, help=\"Results directory\")\\nparser.add_argument(\"tmin\", type=int, help=\"Minimum time\")\\nparser.add_argument(\"tmax\", type=int, help=\"Maximum time\")\\nparser.add_argument(\"lat_resolution\", type=float, help=\"Lat resolution for the IC grid in degrees\")\\nparser.add_argument(\"lon_resolution\", type=float, help=\"Lon resolution for the IC grid in degrees\")\\nparser.add_argument(\"dt\", type=float, help=\"Time step size for Runge Kutta\")\\nparser.add_argument(\"DT\", type=float, help=\"Time step size for Fmap\")\\nparser.add_argument(\"geodesic\", type=lambda x: x.lower() == \\'true\\', help=\"Geodesic boolean for trajectory distance\")\\n# Add optional argument with a default value\\nparser.add_argument(\"--freq\", type=int, default=10, help=\"Frequency (default: 10)\")\\nparser.add_argument(\"--K\", type=int, default=1000, help=\"K similarity diagonal (default: 1000)\")\\nparser.add_argument(\"--n_clusters\", type=int, default=0, help=\"Number of clusters (default: 0 which gives the default number)\")\\nparser.add_argument(\"--e\", type=float, default=0, help=\"Sparsification parameter (default: 0 which translates to standard deviation)\")\\n# Parse the arguments\\nargs = parser.parse_args()\\n\\n\\nNcores = args.Ncores\\nfile_path = args.file_path\\ngeo_file_path = args.geo_file_path\\nparent_directory = args.parent_directory\\nresults_directory = args.results_directory\\ntmin = args.tmin\\ntmax = args.tmax\\nlat_resolution = args.lat_resolution\\nlon_resolution = args.lon_resolution\\ndt = args.dt\\nDT = args.DT\\ngeodesic = args.geodesic\\nfreq = args.freq\\nK = args.K\\nn_clusters = args.n_clusters\\ne = args.e\\nk_exp = 20\\n\\nif not os.path.exists(results_directory):\\n    os.makedirs(results_directory)\\n'"
      ]
     },
     "execution_count": 18,
     "metadata": {},
     "output_type": "execute_result"
    }
   ],
   "source": [
    "'''\n",
    "# Create the parser\n",
    "parser = argparse.ArgumentParser(description=\"Process some parameters for clustering.\")\n",
    "# Add required arguments\n",
    "parser.add_argument(\"Ncores\", type=int, help=\"Number of CPU's\")\n",
    "parser.add_argument(\"file_path\", type=str, help=\"Path to the file\")\n",
    "parser.add_argument(\"geo_file_path\", type=str, help=\"Path to the file\")\n",
    "parser.add_argument(\"parent_directory\", type=str, help=\"Parent directory\")\n",
    "parser.add_argument(\"results_directory\", type=str, help=\"Results directory\")\n",
    "parser.add_argument(\"tmin\", type=int, help=\"Minimum time\")\n",
    "parser.add_argument(\"tmax\", type=int, help=\"Maximum time\")\n",
    "parser.add_argument(\"lat_resolution\", type=float, help=\"Lat resolution for the IC grid in degrees\")\n",
    "parser.add_argument(\"lon_resolution\", type=float, help=\"Lon resolution for the IC grid in degrees\")\n",
    "parser.add_argument(\"dt\", type=float, help=\"Time step size for Runge Kutta\")\n",
    "parser.add_argument(\"DT\", type=float, help=\"Time step size for Fmap\")\n",
    "parser.add_argument(\"geodesic\", type=lambda x: x.lower() == 'true', help=\"Geodesic boolean for trajectory distance\")\n",
    "# Add optional argument with a default value\n",
    "parser.add_argument(\"--freq\", type=int, default=10, help=\"Frequency (default: 10)\")\n",
    "parser.add_argument(\"--K\", type=int, default=1000, help=\"K similarity diagonal (default: 1000)\")\n",
    "parser.add_argument(\"--n_clusters\", type=int, default=0, help=\"Number of clusters (default: 0 which gives the default number)\")\n",
    "parser.add_argument(\"--e\", type=float, default=0, help=\"Sparsification parameter (default: 0 which translates to standard deviation)\")\n",
    "# Parse the arguments\n",
    "args = parser.parse_args()\n",
    "\n",
    "\n",
    "Ncores = args.Ncores\n",
    "file_path = args.file_path\n",
    "geo_file_path = args.geo_file_path\n",
    "parent_directory = args.parent_directory\n",
    "results_directory = args.results_directory\n",
    "tmin = args.tmin\n",
    "tmax = args.tmax\n",
    "lat_resolution = args.lat_resolution\n",
    "lon_resolution = args.lon_resolution\n",
    "dt = args.dt\n",
    "DT = args.DT\n",
    "geodesic = args.geodesic\n",
    "freq = args.freq\n",
    "K = args.K\n",
    "n_clusters = args.n_clusters\n",
    "e = args.e\n",
    "k_exp = 20\n",
    "\n",
    "if not os.path.exists(results_directory):\n",
    "    os.makedirs(results_directory)\n",
    "'''"
   ]
  },
  {
   "cell_type": "code",
   "execution_count": 19,
   "metadata": {},
   "outputs": [],
   "source": [
    "\n",
    "K=1000\n",
    "Ncores = 10\n",
    "geo_file_path = \"/home/llu/Data/OPA-neXtSIM_CREG025_ILBOXE140_2010_ice_latlon_rot_jacob.nc\"\n",
    "parent_directory = \"/home/llu/Programs/HPC_Spectral_Clustering/\"\n",
    "tmin = 0\n",
    "tmax = 360\n",
    "lat_resolution = 0.25\n",
    "lon_resolution = 0.25\n",
    "dt = 1\n",
    "DT = 10\n",
    "freq = 1\n",
    "timemod = int(DT/dt) #10\n",
    "geodesic=False\n",
    "n_clusters=0\n",
    "e=0\n",
    "k_exp = 20\n",
    "\n",
    "Cluster_params = (\n",
    "    f\"geodesic_{geodesic}_\"\n",
    "    f\"nclusters{n_clusters}_\"\n",
    "    f\"e{e}\"\n",
    ")\n",
    "\n",
    "W_params = (\n",
    "    f\"geodesic_{geodesic}\"\n",
    ")\n",
    "\n",
    "\n",
    "# Initial file path\n",
    "file_path = \"/home/llu/Data/Fmap_tmin0_tmax360_latlonres0.25x0.25_dt1_DT10/\"\n",
    "# Construct results directory path\n",
    "results_directory = f\"{file_path}/{Cluster_params}/\"\n",
    "if not os.path.exists(results_directory):\n",
    "    os.makedirs(results_directory)\n"
   ]
  },
  {
   "cell_type": "code",
   "execution_count": 20,
   "metadata": {},
   "outputs": [],
   "source": [
    "# add utils folder to the TBarrier package\n",
    "#sys.path.append(T_Barrier_directory+\"/subfunctions/utils\")\n",
    "#sys.path.append(T_Barrier_directory+\"/subfunctions/integration\")\n",
    "# add utils folder to current working path\n",
    "sys.path.append(parent_directory+\"/subfunctions/Similarity_matrix_clustering\")\n",
    "sys.path.append(parent_directory+\"/utils\")\n",
    "\n",
    "\n",
    "from ipynb.fs.defs.from_similarity_to_eigen import from_similarity_to_eigen\n",
    "\n",
    "from ipynb.fs.defs.ploters import ini_final_clusters\n",
    "from ipynb.fs.defs.ploters import gif_clusters\n",
    "from ipynb.fs.defs.ploters import ini_final_clusters_landmask\n",
    "from ipynb.fs.defs.ploters import gif_clusters_landmask\n"
   ]
  },
  {
   "cell_type": "code",
   "execution_count": 21,
   "metadata": {},
   "outputs": [
    {
     "name": "stdout",
     "output_type": "stream",
     "text": [
      "Reading data\n"
     ]
    }
   ],
   "source": [
    "print(\"Reading data\")\n",
    "#Read input data\n",
    "\n",
    "file_path=\"/home/llu/Programs/HPC_Spectral_Clustering/Data/Fmap_tmin0_tmax360_latlonres1x1_dt0.1_DT2/geodesic_False_nclusters0_e0/\"\n",
    "\n",
    "Fmap_path = file_path+'Fmap_geodesic_False_nclusters0_e0.0.npy'\n",
    "labels_path = file_path+'/Clusters_labels_geodesic_False_nclusters0_e0.0.npy'\n",
    "\n",
    "# Load the Fmap array from the file\n",
    "Fmap = np.load(Fmap_path)  # ntime [lon,lat] ntrajectories\n",
    "IC = Fmap[0,:,:]  #Take the position of the trajectory IC\n",
    "# Load the labels of the clusters\n",
    "labels= np.load(labels_path)\n",
    "\n",
    "dataset = nc.Dataset(geo_file_path, mode='r')\n",
    "\n",
    "#from m/s to m/day\n",
    "siu = dataset.variables['vlon'][0,:,:]\n",
    "land_mask=siu[:,:].mask\n",
    "\n",
    "# Access coordinates\n",
    "latitude = dataset.variables['rot_lat'][:]  \n",
    "longitude = dataset.variables['rot_lon'][:]\n",
    "\n",
    "dataset.close()\n"
   ]
  },
  {
   "cell_type": "code",
   "execution_count": 22,
   "metadata": {},
   "outputs": [
    {
     "data": {
      "text/plain": [
       "(2, 990)"
      ]
     },
     "execution_count": 22,
     "metadata": {},
     "output_type": "execute_result"
    }
   ],
   "source": [
    "IC.shape"
   ]
  },
  {
   "cell_type": "code",
   "execution_count": 23,
   "metadata": {},
   "outputs": [],
   "source": [
    "#Fmap dimensions"
   ]
  },
  {
   "cell_type": "code",
   "execution_count": 24,
   "metadata": {},
   "outputs": [],
   "source": [
    "def gradient_matrix(IC,labels,i_batch,j_batch,geodesic=False,thereshold=1.5):\n",
    "    w =  []\n",
    "    for k in range(len(i_batch)):\n",
    "        if (k%10000 == 0):\n",
    "            print(k)\n",
    "        s=gradient_labels(IC,labels,i_batch[k],j_batch[k],geodesic,thereshold)\n",
    "        w = np.append(w,s)\n",
    "    return w"
   ]
  },
  {
   "cell_type": "code",
   "execution_count": 25,
   "metadata": {},
   "outputs": [],
   "source": [
    "def gradient_labels(IC, labels, i, j, geodesic , thereshold):\n",
    "    if geodesic==False:\n",
    "        # Compute pairwise distances at each time step\n",
    "        distance = np.linalg.norm(IC[:, i] - IC[:, j], axis=1)\n",
    "    else:\n",
    "        # Define the WGS84 ellipsoid\n",
    "        geod = Geod(ellps='WGS84')  #equivalent to +b=6356752 +a=6378137'\n",
    "\n",
    "        #Go back to the non-rotated coordinates to compute the geodesic distances\n",
    "        IC[1,:], IC[0,:] = polar_rotation_rx(np.array(IC[1,:]),np.array(IC[0,:]),-90)  #IC[0,:] contains longitudes and IC[1,:] latitudes\n",
    "        distance =  geod.inv(IC[0, i], IC[1, i], IC[0, j], IC[1, j])[2] #distances in m\n",
    "\n",
    "    if distance<=thereshold:\n",
    "        return np.abs(labels[i]-labels[j])\n",
    "    else:\n",
    "        return 0\n",
    "\n"
   ]
  },
  {
   "cell_type": "code",
   "execution_count": 26,
   "metadata": {},
   "outputs": [
    {
     "name": "stdout",
     "output_type": "stream",
     "text": [
      "Preparing the parallel loop to compute the Similarity matrix\n",
      "990 trajectories are being processed. Each trajectory has 44 time steps.\n",
      "Dimensions of W triangular\n",
      "490545.0\n",
      "Length of the array with w values\n",
      "(49055,)\n"
     ]
    }
   ],
   "source": [
    "print(\"Preparing the parallel loop to compute the Similarity matrix\") \n",
    "n = IC.shape[1]\n",
    "print(f\"{n} trajectories are being processed. Each trajectory has {Fmap.shape[0]} time steps.\")\n",
    "\n",
    "indices = np.tril_indices(n,0,n)\n",
    "\n",
    "I=indices[0]\n",
    "J=indices[1]\n",
    "\n",
    "def split(a, n):\n",
    "    k, m = divmod(len(a), n)\n",
    "    return (a[i*k+min(i, m):(i+1)*k+min(i+1, m)] for i in range(n))\n",
    "\n",
    "I_batch = list(split(I, Ncores)) # list (Nx*Ny)\n",
    "J_batch = list(split(J, Ncores)) # list (Nx*Ny)\n",
    "print(\"Dimensions of W triangular\")\n",
    "print(n*n/2+n/2)\n",
    "\n",
    "print(\"Length of the array with w values\")\n",
    "print(I_batch[0].shape)"
   ]
  },
  {
   "cell_type": "code",
   "execution_count": 27,
   "metadata": {},
   "outputs": [
    {
     "data": {
      "text/plain": [
       "False"
      ]
     },
     "execution_count": 27,
     "metadata": {},
     "output_type": "execute_result"
    }
   ],
   "source": [
    "geodesic"
   ]
  },
  {
   "cell_type": "code",
   "execution_count": 28,
   "metadata": {},
   "outputs": [
    {
     "name": "stdout",
     "output_type": "stream",
     "text": [
      "Computing the similarity matrix with the parallel loop\n"
     ]
    },
    {
     "name": "stderr",
     "output_type": "stream",
     "text": [
      "[Parallel(n_jobs=10)]: Using backend LokyBackend with 10 concurrent workers.\n"
     ]
    },
    {
     "name": "stdout",
     "output_type": "stream",
     "text": [
      "0\n",
      "0\n",
      "0\n",
      "0\n"
     ]
    },
    {
     "ename": "AxisError",
     "evalue": "axis 1 is out of bounds for array of dimension 1",
     "output_type": "error",
     "traceback": [
      "\u001b[0;31m---------------------------------------------------------------------------\u001b[0m",
      "\u001b[0;31m_RemoteTraceback\u001b[0m                          Traceback (most recent call last)",
      "\u001b[0;31m_RemoteTraceback\u001b[0m: \n\"\"\"\nTraceback (most recent call last):\n  File \"/home/llu/venvs/Spectral_Clustering_venv/lib/python3.12/site-packages/joblib/externals/loky/process_executor.py\", line 463, in _process_worker\n    r = call_item()\n        ^^^^^^^^^^^\n  File \"/home/llu/venvs/Spectral_Clustering_venv/lib/python3.12/site-packages/joblib/externals/loky/process_executor.py\", line 291, in __call__\n    return self.fn(*self.args, **self.kwargs)\n           ^^^^^^^^^^^^^^^^^^^^^^^^^^^^^^^^^^\n  File \"/home/llu/venvs/Spectral_Clustering_venv/lib/python3.12/site-packages/joblib/parallel.py\", line 598, in __call__\n    return [func(*args, **kwargs)\n            ^^^^^^^^^^^^^^^^^^^^^\n  File \"/tmp/ipykernel_21447/2541054875.py\", line 6, in gradient_matrix\n  File \"/tmp/ipykernel_21447/1302809949.py\", line 4, in gradient_labels\n  File \"/home/llu/venvs/Spectral_Clustering_venv/lib/python3.12/site-packages/numpy/linalg/_linalg.py\", line 2773, in norm\n    return sqrt(add.reduce(s, axis=axis, keepdims=keepdims))\n                ^^^^^^^^^^^^^^^^^^^^^^^^^^^^^^^^^^^^^^^^^^^\nnumpy.exceptions.AxisError: axis 1 is out of bounds for array of dimension 1\n\"\"\"",
      "\nThe above exception was the direct cause of the following exception:\n",
      "\u001b[0;31mAxisError\u001b[0m                                 Traceback (most recent call last)",
      "Cell \u001b[0;32mIn[28], line 2\u001b[0m\n\u001b[1;32m      1\u001b[0m \u001b[38;5;28mprint\u001b[39m(\u001b[38;5;124m\"\u001b[39m\u001b[38;5;124mComputing the similarity matrix with the parallel loop\u001b[39m\u001b[38;5;124m\"\u001b[39m)\n\u001b[0;32m----> 2\u001b[0m results \u001b[38;5;241m=\u001b[39m \u001b[43mParallel\u001b[49m\u001b[43m(\u001b[49m\u001b[43mn_jobs\u001b[49m\u001b[38;5;241;43m=\u001b[39;49m\u001b[43mNcores\u001b[49m\u001b[43m,\u001b[49m\u001b[43m \u001b[49m\u001b[43mverbose\u001b[49m\u001b[43m \u001b[49m\u001b[38;5;241;43m=\u001b[39;49m\u001b[43m \u001b[49m\u001b[38;5;241;43m10\u001b[39;49m\u001b[43m)\u001b[49m\u001b[43m(\u001b[49m\u001b[43mdelayed\u001b[49m\u001b[43m(\u001b[49m\u001b[43mgradient_matrix\u001b[49m\u001b[43m)\u001b[49m\u001b[43m(\u001b[49m\u001b[43mIC\u001b[49m\u001b[43m,\u001b[49m\u001b[43m \u001b[49m\u001b[43mlabels\u001b[49m\u001b[43m,\u001b[49m\u001b[43m \u001b[49m\u001b[43mI_batch\u001b[49m\u001b[43m[\u001b[49m\u001b[43mi\u001b[49m\u001b[43m]\u001b[49m\u001b[43m,\u001b[49m\u001b[43m \u001b[49m\u001b[43mJ_batch\u001b[49m\u001b[43m[\u001b[49m\u001b[43mi\u001b[49m\u001b[43m]\u001b[49m\u001b[43m,\u001b[49m\u001b[43m \u001b[49m\u001b[43mgeodesic\u001b[49m\u001b[43m,\u001b[49m\u001b[43m \u001b[49m\u001b[38;5;241;43m2\u001b[39;49m\u001b[43m)\u001b[49m\u001b[43m \u001b[49m\u001b[38;5;28;43;01mfor\u001b[39;49;00m\u001b[43m \u001b[49m\u001b[43mi\u001b[49m\u001b[43m \u001b[49m\u001b[38;5;129;43;01min\u001b[39;49;00m\u001b[43m \u001b[49m\u001b[38;5;28;43mrange\u001b[39;49m\u001b[43m(\u001b[49m\u001b[38;5;28;43mlen\u001b[39;49m\u001b[43m(\u001b[49m\u001b[43mI_batch\u001b[49m\u001b[43m)\u001b[49m\u001b[43m)\u001b[49m\u001b[43m)\u001b[49m\n\u001b[1;32m      4\u001b[0m gradients \u001b[38;5;241m=\u001b[39m results[\u001b[38;5;241m0\u001b[39m]\n\u001b[1;32m      6\u001b[0m \u001b[38;5;28;01mfor\u001b[39;00m res \u001b[38;5;129;01min\u001b[39;00m results[\u001b[38;5;241m1\u001b[39m:]:\n",
      "File \u001b[0;32m~/venvs/Spectral_Clustering_venv/lib/python3.12/site-packages/joblib/parallel.py:2007\u001b[0m, in \u001b[0;36mParallel.__call__\u001b[0;34m(self, iterable)\u001b[0m\n\u001b[1;32m   2001\u001b[0m \u001b[38;5;66;03m# The first item from the output is blank, but it makes the interpreter\u001b[39;00m\n\u001b[1;32m   2002\u001b[0m \u001b[38;5;66;03m# progress until it enters the Try/Except block of the generator and\u001b[39;00m\n\u001b[1;32m   2003\u001b[0m \u001b[38;5;66;03m# reaches the first `yield` statement. This starts the asynchronous\u001b[39;00m\n\u001b[1;32m   2004\u001b[0m \u001b[38;5;66;03m# dispatch of the tasks to the workers.\u001b[39;00m\n\u001b[1;32m   2005\u001b[0m \u001b[38;5;28mnext\u001b[39m(output)\n\u001b[0;32m-> 2007\u001b[0m \u001b[38;5;28;01mreturn\u001b[39;00m output \u001b[38;5;28;01mif\u001b[39;00m \u001b[38;5;28mself\u001b[39m\u001b[38;5;241m.\u001b[39mreturn_generator \u001b[38;5;28;01melse\u001b[39;00m \u001b[38;5;28;43mlist\u001b[39;49m\u001b[43m(\u001b[49m\u001b[43moutput\u001b[49m\u001b[43m)\u001b[49m\n",
      "File \u001b[0;32m~/venvs/Spectral_Clustering_venv/lib/python3.12/site-packages/joblib/parallel.py:1650\u001b[0m, in \u001b[0;36mParallel._get_outputs\u001b[0;34m(self, iterator, pre_dispatch)\u001b[0m\n\u001b[1;32m   1647\u001b[0m     \u001b[38;5;28;01myield\u001b[39;00m\n\u001b[1;32m   1649\u001b[0m     \u001b[38;5;28;01mwith\u001b[39;00m \u001b[38;5;28mself\u001b[39m\u001b[38;5;241m.\u001b[39m_backend\u001b[38;5;241m.\u001b[39mretrieval_context():\n\u001b[0;32m-> 1650\u001b[0m         \u001b[38;5;28;01myield from\u001b[39;00m \u001b[38;5;28mself\u001b[39m\u001b[38;5;241m.\u001b[39m_retrieve()\n\u001b[1;32m   1652\u001b[0m \u001b[38;5;28;01mexcept\u001b[39;00m \u001b[38;5;167;01mGeneratorExit\u001b[39;00m:\n\u001b[1;32m   1653\u001b[0m     \u001b[38;5;66;03m# The generator has been garbage collected before being fully\u001b[39;00m\n\u001b[1;32m   1654\u001b[0m     \u001b[38;5;66;03m# consumed. This aborts the remaining tasks if possible and warn\u001b[39;00m\n\u001b[1;32m   1655\u001b[0m     \u001b[38;5;66;03m# the user if necessary.\u001b[39;00m\n\u001b[1;32m   1656\u001b[0m     \u001b[38;5;28mself\u001b[39m\u001b[38;5;241m.\u001b[39m_exception \u001b[38;5;241m=\u001b[39m \u001b[38;5;28;01mTrue\u001b[39;00m\n",
      "File \u001b[0;32m~/venvs/Spectral_Clustering_venv/lib/python3.12/site-packages/joblib/parallel.py:1754\u001b[0m, in \u001b[0;36mParallel._retrieve\u001b[0;34m(self)\u001b[0m\n\u001b[1;32m   1747\u001b[0m \u001b[38;5;28;01mwhile\u001b[39;00m \u001b[38;5;28mself\u001b[39m\u001b[38;5;241m.\u001b[39m_wait_retrieval():\n\u001b[1;32m   1748\u001b[0m \n\u001b[1;32m   1749\u001b[0m     \u001b[38;5;66;03m# If the callback thread of a worker has signaled that its task\u001b[39;00m\n\u001b[1;32m   1750\u001b[0m     \u001b[38;5;66;03m# triggered an exception, or if the retrieval loop has raised an\u001b[39;00m\n\u001b[1;32m   1751\u001b[0m     \u001b[38;5;66;03m# exception (e.g. `GeneratorExit`), exit the loop and surface the\u001b[39;00m\n\u001b[1;32m   1752\u001b[0m     \u001b[38;5;66;03m# worker traceback.\u001b[39;00m\n\u001b[1;32m   1753\u001b[0m     \u001b[38;5;28;01mif\u001b[39;00m \u001b[38;5;28mself\u001b[39m\u001b[38;5;241m.\u001b[39m_aborting:\n\u001b[0;32m-> 1754\u001b[0m         \u001b[38;5;28;43mself\u001b[39;49m\u001b[38;5;241;43m.\u001b[39;49m\u001b[43m_raise_error_fast\u001b[49m\u001b[43m(\u001b[49m\u001b[43m)\u001b[49m\n\u001b[1;32m   1755\u001b[0m         \u001b[38;5;28;01mbreak\u001b[39;00m\n\u001b[1;32m   1757\u001b[0m     \u001b[38;5;66;03m# If the next job is not ready for retrieval yet, we just wait for\u001b[39;00m\n\u001b[1;32m   1758\u001b[0m     \u001b[38;5;66;03m# async callbacks to progress.\u001b[39;00m\n",
      "File \u001b[0;32m~/venvs/Spectral_Clustering_venv/lib/python3.12/site-packages/joblib/parallel.py:1789\u001b[0m, in \u001b[0;36mParallel._raise_error_fast\u001b[0;34m(self)\u001b[0m\n\u001b[1;32m   1785\u001b[0m \u001b[38;5;66;03m# If this error job exists, immediately raise the error by\u001b[39;00m\n\u001b[1;32m   1786\u001b[0m \u001b[38;5;66;03m# calling get_result. This job might not exists if abort has been\u001b[39;00m\n\u001b[1;32m   1787\u001b[0m \u001b[38;5;66;03m# called directly or if the generator is gc'ed.\u001b[39;00m\n\u001b[1;32m   1788\u001b[0m \u001b[38;5;28;01mif\u001b[39;00m error_job \u001b[38;5;129;01mis\u001b[39;00m \u001b[38;5;129;01mnot\u001b[39;00m \u001b[38;5;28;01mNone\u001b[39;00m:\n\u001b[0;32m-> 1789\u001b[0m     \u001b[43merror_job\u001b[49m\u001b[38;5;241;43m.\u001b[39;49m\u001b[43mget_result\u001b[49m\u001b[43m(\u001b[49m\u001b[38;5;28;43mself\u001b[39;49m\u001b[38;5;241;43m.\u001b[39;49m\u001b[43mtimeout\u001b[49m\u001b[43m)\u001b[49m\n",
      "File \u001b[0;32m~/venvs/Spectral_Clustering_venv/lib/python3.12/site-packages/joblib/parallel.py:745\u001b[0m, in \u001b[0;36mBatchCompletionCallBack.get_result\u001b[0;34m(self, timeout)\u001b[0m\n\u001b[1;32m    739\u001b[0m backend \u001b[38;5;241m=\u001b[39m \u001b[38;5;28mself\u001b[39m\u001b[38;5;241m.\u001b[39mparallel\u001b[38;5;241m.\u001b[39m_backend\n\u001b[1;32m    741\u001b[0m \u001b[38;5;28;01mif\u001b[39;00m backend\u001b[38;5;241m.\u001b[39msupports_retrieve_callback:\n\u001b[1;32m    742\u001b[0m     \u001b[38;5;66;03m# We assume that the result has already been retrieved by the\u001b[39;00m\n\u001b[1;32m    743\u001b[0m     \u001b[38;5;66;03m# callback thread, and is stored internally. It's just waiting to\u001b[39;00m\n\u001b[1;32m    744\u001b[0m     \u001b[38;5;66;03m# be returned.\u001b[39;00m\n\u001b[0;32m--> 745\u001b[0m     \u001b[38;5;28;01mreturn\u001b[39;00m \u001b[38;5;28;43mself\u001b[39;49m\u001b[38;5;241;43m.\u001b[39;49m\u001b[43m_return_or_raise\u001b[49m\u001b[43m(\u001b[49m\u001b[43m)\u001b[49m\n\u001b[1;32m    747\u001b[0m \u001b[38;5;66;03m# For other backends, the main thread needs to run the retrieval step.\u001b[39;00m\n\u001b[1;32m    748\u001b[0m \u001b[38;5;28;01mtry\u001b[39;00m:\n",
      "File \u001b[0;32m~/venvs/Spectral_Clustering_venv/lib/python3.12/site-packages/joblib/parallel.py:763\u001b[0m, in \u001b[0;36mBatchCompletionCallBack._return_or_raise\u001b[0;34m(self)\u001b[0m\n\u001b[1;32m    761\u001b[0m \u001b[38;5;28;01mtry\u001b[39;00m:\n\u001b[1;32m    762\u001b[0m     \u001b[38;5;28;01mif\u001b[39;00m \u001b[38;5;28mself\u001b[39m\u001b[38;5;241m.\u001b[39mstatus \u001b[38;5;241m==\u001b[39m TASK_ERROR:\n\u001b[0;32m--> 763\u001b[0m         \u001b[38;5;28;01mraise\u001b[39;00m \u001b[38;5;28mself\u001b[39m\u001b[38;5;241m.\u001b[39m_result\n\u001b[1;32m    764\u001b[0m     \u001b[38;5;28;01mreturn\u001b[39;00m \u001b[38;5;28mself\u001b[39m\u001b[38;5;241m.\u001b[39m_result\n\u001b[1;32m    765\u001b[0m \u001b[38;5;28;01mfinally\u001b[39;00m:\n",
      "\u001b[0;31mAxisError\u001b[0m: axis 1 is out of bounds for array of dimension 1"
     ]
    }
   ],
   "source": [
    "print(\"Computing the similarity matrix with the parallel loop\")\n",
    "results = Parallel(n_jobs=Ncores, verbose = 10)(delayed(gradient_matrix)(IC, labels, I_batch[i], J_batch[i], geodesic, 2) for i in range(len(I_batch)))\n",
    "\n",
    "gradients = results[0]\n",
    "\n",
    "for res in results[1:]:\n",
    "    gradients = np.append(gradients, res)\n",
    "\n",
    "del(results)"
   ]
  },
  {
   "cell_type": "code",
   "execution_count": 102,
   "metadata": {},
   "outputs": [],
   "source": [
    "# Create an empty matrix of zeros with shape (n, n)\n",
    "gradients_mx = np.zeros((n, n))\n",
    "gradients_mx[indices] = gradients\n",
    "# Fill the upper triangular part \n",
    "gradients_mx = gradients_mx + gradients_mx.T - np.diag(np.diag(gradients_mx))\n",
    "#np.fill_diagonal(gradients_mx, 0)"
   ]
  },
  {
   "cell_type": "code",
   "execution_count": null,
   "metadata": {},
   "outputs": [
    {
     "data": {
      "text/plain": [
       "Text(0.5, 1.0, 'Similarity matrix')"
      ]
     },
     "execution_count": 103,
     "metadata": {},
     "output_type": "execute_result"
    },
    {
     "data": {
      "image/png": "[encoded data removed]",
      "text/plain": [
       "<Figure size 640x480 with 2 Axes>"
      ]
     },
     "metadata": {},
     "output_type": "display_data"
    }
   ],
   "source": [
    "imshow(gradients_mx,vmin=0,vmax=1)\n",
    "cb=plt.colorbar()\n",
    "if geodesic==True:\n",
    "    cb.set_label(\"m^{-1}\")\n",
    "else:\n",
    "    cb.set_label(\"deg^{-1}\")\n",
    "plt.title(\"Similarity matrix\")\n",
    "#plt.savefig(results_directory+'/W_matrix_'+W_params+'.png')\n"
   ]
  },
  {
   "cell_type": "code",
   "execution_count": 98,
   "metadata": {},
   "outputs": [
    {
     "data": {
      "text/plain": [
       "np.int64(489552)"
      ]
     },
     "execution_count": 98,
     "metadata": {},
     "output_type": "execute_result"
    }
   ],
   "source": [
    "np.sum(gradients==0)"
   ]
  },
  {
   "cell_type": "code",
   "execution_count": 99,
   "metadata": {},
   "outputs": [
    {
     "data": {
      "text/plain": [
       "(490545,)"
      ]
     },
     "execution_count": 99,
     "metadata": {},
     "output_type": "execute_result"
    }
   ],
   "source": [
    "gradients.shape"
   ]
  },
  {
   "cell_type": "code",
   "execution_count": null,
   "metadata": {},
   "outputs": [],
   "source": []
  }
 ],
 "metadata": {
  "kernelspec": {
   "display_name": "Spectral_Clustering_venv",
   "language": "python",
   "name": "python3"
  },
  "language_info": {
   "codemirror_mode": {
    "name": "ipython",
    "version": 3
   },
   "file_extension": ".py",
   "mimetype": "text/x-python",
   "name": "python",
   "nbconvert_exporter": "python",
   "pygments_lexer": "ipython3",
   "version": "3.12.2"
  }
 },
 "nbformat": 4,
 "nbformat_minor": 2
}
