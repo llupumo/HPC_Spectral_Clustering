{
 "cells": [
  {
   "cell_type": "markdown",
   "metadata": {},
   "source": [
    "This function computes the interpolant for the steady/unsteady velocity field. *interpolant_unsteady* is used for unsteady velocity fields, whereas *interpolant_steady* is used for steady velocity fields."
   ]
  },
  {
   "cell_type": "code",
   "execution_count": 7,
   "metadata": {
    "code_folding": [
     0
    ]
   },
   "outputs": [],
   "source": [
    "# import Rectangular bivariate spline from scipy\n",
    "from scipy.interpolate import RectBivariateSpline as RBS\n",
    "from scipy.interpolate import SmoothBivariateSpline as SBS\n",
    "from scipy.interpolate import griddata\n",
    "\n",
    "import numpy as np"
   ]
  },
  {
   "cell_type": "code",
   "execution_count": 10,
   "metadata": {},
   "outputs": [],
   "source": [
    "def regrid_unsteady(lat_irr, lon_irr, U, V, lat_reg, lon_reg):\n",
    "    print(\"Regriding for \"+str(U.shape[2])+\" time steps\")\n",
    "    # define u, v interpolants\n",
    "    Interpolated_vel = [[], []]\n",
    "    Interpolated_vel[0] = np.array([griddata((lat_irr.ravel(),lon_irr.ravel()), U[:, :, t].ravel(), (lat_reg.ravel(), lon_reg.ravel()), method='linear', rescale=False).reshape(lon_reg.shape) for t in range(U.shape[2])]).transpose(1,2,0)\n",
    "    Interpolated_vel[1] = np.array([griddata((lat_irr.ravel(),lon_irr.ravel()), V[:, :, t].ravel(), (lat_reg.ravel(), lon_reg.ravel()), method='linear', rescale=False).reshape(lon_reg.shape) for t in range(V.shape[2])]).transpose(1,2,0)\n",
    "    \n",
    "    return Interpolated_vel"
   ]
  },
  {
   "cell_type": "code",
   "execution_count": 6,
   "metadata": {
    "code_folding": [
     0
    ]
   },
   "outputs": [],
   "source": [
    "def interpolant_unsteady(X, Y, U, V, method = \"cubic\"):\n",
    "    '''\n",
    "    Unsteady wrapper for scipy.interpolate.RectBivariateSpline. Creates a list of interpolators for u and v velocities\n",
    "    \n",
    "    Parameters:\n",
    "        X: array (Ny, Nx), X-meshgrid\n",
    "        Y: array (Ny, Nx), Y-meshgrid\n",
    "        U: array (Ny, Nx, Nt), U velocity\n",
    "        V: array (Ny, Nx, Nt), V velocity\n",
    "        method: Method for interpolation. Default is 'cubic', can be 'linear'\n",
    "        \n",
    "    Returns:\n",
    "        Interpolant: list (2,), U and V  interpolators\n",
    "    '''\n",
    "    # Cubic interpolation\n",
    "    if method == \"cubic\":\n",
    "                \n",
    "        kx = 3\n",
    "        ky = 3\n",
    "               \n",
    "    # linear interpolation\n",
    "    elif method == \"linear\":\n",
    "            \n",
    "        kx = 1\n",
    "        ky = 1  \n",
    "            \n",
    "    # define u, v interpolants\n",
    "    Interpolant = [[], []]\n",
    "                    \n",
    "    for j in range(U.shape[2]):\n",
    "                \n",
    "        Interpolant[0].append(RBS(Y[:,0], X[0,:], U[:,:,j], kx=kx, ky=ky))\n",
    "        Interpolant[1].append(RBS(Y[:,0], X[0,:], V[:,:,j], kx=kx, ky=ky))\n",
    "    \n",
    "    return Interpolant"
   ]
  },
  {
   "cell_type": "code",
   "execution_count": 7,
   "metadata": {
    "code_folding": [
     0
    ]
   },
   "outputs": [],
   "source": [
    "def interpolant_steady(X, Y, U, V, method = \"cubic\"):\n",
    "    '''\n",
    "    Steady wrapper for scipy.interpolate.RectBivariateSpline. Creates a list of interpolators for u and v velocities\n",
    "    \n",
    "    Parameters:\n",
    "        X: array (Ny, Nx), X-meshgrid\n",
    "        Y: array (Ny, Nx), Y-meshgrid\n",
    "        U: array (Ny, Nx), U velocity\n",
    "        V: array (Ny, Nx), V velocity\n",
    "        method: Method for interpolation. Default is 'cubic', can be 'linear'\n",
    "        \n",
    "    Returns:\n",
    "        Interpolant: list (2,), U and V  interpolators\n",
    "    '''\n",
    "    # Cubic interpolation\n",
    "    if method == \"cubic\":\n",
    "                \n",
    "        kx = 3\n",
    "        ky = 3\n",
    "               \n",
    "    # linear interpolation\n",
    "    elif method == \"linear\":\n",
    "            \n",
    "        kx = 1\n",
    "        ky = 1\n",
    "            \n",
    "    # define u, v interpolants\n",
    "    Interpolant = []\n",
    "                \n",
    "    Interpolant.append(RBS(Y[:,0], X[0,:], U, kx=kx, ky=ky))\n",
    "    Interpolant.append(RBS(Y[:,0], X[0,:], V, kx=kx, ky=ky))  \n",
    "        \n",
    "    return Interpolant"
   ]
  },
  {
   "cell_type": "markdown",
   "metadata": {},
   "source": [
    "Linear interpolator"
   ]
  },
  {
   "cell_type": "code",
   "execution_count": null,
   "metadata": {},
   "outputs": [],
   "source": [
    "from scipy.interpolate import LinearNDInterpolator as LNDI\n",
    "def interpolant_unsteady_uneven_linear(X, Y, U, V):\n",
    "            \n",
    "    # define u, v interpolants\n",
    "    Interpolant = [[], []]\n",
    "\n",
    "    for i in range(U.shape[2]):   \n",
    "        print(i)       \n",
    "        Interpolant[0].append(LNDI(list(zip(X.ravel(), Y.ravel())), U[:,:,i].ravel(),fill_value=0))\n",
    "        Interpolant[1].append(LNDI(list(zip(X.ravel(), Y.ravel())), V[:,:,i].ravel(),fill_value=0))\n",
    "    \n",
    "    return Interpolant"
   ]
  },
  {
   "cell_type": "code",
   "execution_count": 1,
   "metadata": {},
   "outputs": [],
   "source": [
    "from scipy.interpolate import LinearNDInterpolator as LNDI\n",
    "def regrid_unsteady_uneven_linear(X, Y, U, V,X_reg, Y_reg):\n",
    "   \n",
    "            \n",
    "    # define u, v interpolants\n",
    "    Interpolant = [[], []]\n",
    "\n",
    "    for i in range(U.shape[2]):   \n",
    "        print(i)       \n",
    "        Interpolant[0].append(LNDI(list(zip(X.ravel(), Y.ravel())), U[:,:,i].ravel(),fill_value=0)(X.ravel(),Y.ravel()))\n",
    "        Interpolant[1].append(LNDI(list(zip(X.ravel(), Y.ravel())), V[:,:,i].ravel(),fill_value=0)(X.ravel(),Y.ravel()))\n",
    "    \n",
    "    return Interpolant"
   ]
  },
  {
   "cell_type": "code",
   "execution_count": null,
   "metadata": {},
   "outputs": [],
   "source": [
    "#griddata(points, values, xi, method='linear', fill_value=nan, rescale=False)"
   ]
  },
  {
   "cell_type": "markdown",
   "metadata": {},
   "source": [
    "Linear interpolator for masked elements. Note that X and Y"
   ]
  },
  {
   "cell_type": "code",
   "execution_count": null,
   "metadata": {},
   "outputs": [],
   "source": [
    "def interpolant_unsteady_uneven_linear_masked(X, Y, U, V):\n",
    " \n",
    "    # define u, v interpolants\n",
    "    Interpolant = [[], []]\n",
    "    print(Y.ravel().shape)\n",
    "    print(X.ravel().shape)\n",
    "\n",
    "    for i in range(U.shape[1]):   \n",
    "        print(U[:,i].ravel().shape)       \n",
    "        Interpolant[0].append(LNDI(list(zip(X.ravel(), Y.ravel())), U[:,i].ravel()))\n",
    "        Interpolant[1].append(LNDI(list(zip(X.ravel(), Y.ravel())), V[:,i].ravel()))\n",
    "    \n",
    "    return Interpolant"
   ]
  },
  {
   "cell_type": "markdown",
   "metadata": {},
   "source": [
    "Smooth bivariate interpolator. Does not work well"
   ]
  },
  {
   "cell_type": "code",
   "execution_count": 12,
   "metadata": {},
   "outputs": [],
   "source": [
    "from scipy.interpolate import SmoothBivariateSpline as SBS\n",
    "def interpolant_unsteady_uneven(X, Y, U, V, method = \"cubic\"):\n",
    "  \n",
    "    # Cubic interpolation\n",
    "    if method == \"cubic\":\n",
    "                \n",
    "        kx = 3\n",
    "        ky = 3\n",
    "               \n",
    "    # linear interpolation\n",
    "    elif method == \"linear\":\n",
    "            \n",
    "        kx = 1\n",
    "        ky = 1  \n",
    "            \n",
    "    # define u, v interpolants\n",
    "    Interpolant = [[], []]\n",
    "    print(Y.ravel().shape)\n",
    "    print(X.ravel().shape)\n",
    "\n",
    "    for i in range(U.shape[2]):   \n",
    "        print(U[:,:,i].ravel().shape)       \n",
    "        Interpolant[0].append(SBS(Y.ravel(), X.ravel(), U[:,:,i].ravel(), kx=kx, ky=ky))\n",
    "        Interpolant[1].append(SBS(Y.ravel(), X.ravel(), V[:,:,i].ravel(), kx=kx, ky=ky))\n",
    "    \n",
    "    return Interpolant"
   ]
  }
 ],
 "metadata": {
  "kernelspec": {
   "display_name": "Spectral_Clustering_venv",
   "language": "python",
   "name": "python3"
  },
  "language_info": {
   "codemirror_mode": {
    "name": "ipython",
    "version": 3
   },
   "file_extension": ".py",
   "mimetype": "text/x-python",
   "name": "python",
   "nbconvert_exporter": "python",
   "pygments_lexer": "ipython3",
   "version": "3.12.2"
  },
  "toc": {
   "base_numbering": 1,
   "nav_menu": {},
   "number_sections": true,
   "sideBar": true,
   "skip_h1_title": false,
   "title_cell": "Table of Contents",
   "title_sidebar": "Contents",
   "toc_cell": false,
   "toc_position": {},
   "toc_section_display": true,
   "toc_window_display": false
  }
 },
 "nbformat": 4,
 "nbformat_minor": 4
}
