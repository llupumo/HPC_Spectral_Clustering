{
 "cells": [
  {
   "cell_type": "code",
   "execution_count": 1,
   "id": "8af6590e-4b14-4c4d-b2d4-81b38f831c64",
   "metadata": {},
   "outputs": [],
   "source": [
    "import numpy as np "
   ]
  },
  {
   "cell_type": "markdown",
   "id": "ec531f70-e7a7-4105-a16f-51bb82fb83d8",
   "metadata": {},
   "source": [
    "## Relocation of the Npole\n",
    "In this section, we use:\\\n",
    "The rotations around the cartesian axis\n",
    "$$R_x(\\theta) = \\begin{bmatrix} 1 & 0 & 0\\\\ 0 & \\cos\\left(\\theta\\right) & -\\sin\\left(\\theta\\right) \\\\ 0 & \\sin\\left(\\theta\\right)& cos\\left(\\theta \\right)\\end{bmatrix} \\hspace{1cm}\n",
    "R_y(\\theta) = \\begin{bmatrix} \\cos\\left(\\theta\\right) & 0 & \\sin\\left(\\theta\\right)\\\\ 0 & 1 & 0 \\\\ -\\sin\\left(\\theta\\right) & 0 & cos\\left(\\theta \\right)\\end{bmatrix} \\hspace{1cm}\n",
    "R_z(\\theta) = \\begin{bmatrix} \\cos\\left(\\theta\\right) & -\\sin\\left(\\theta\\right) & 0\\\\ \\sin\\left(\\theta\\right) & \\cos\\left(\\theta\\right) & 0 \\\\ 0 & 0 & 1\\end{bmatrix}$$\n",
    "\n",
    "\n",
    "Transformation from cartesian to spherical and viceversa\n",
    "$$\\begin{bmatrix} x \\\\ y \\\\ z \\end{bmatrix} = r \\begin{bmatrix} \\sin(\\theta) \\cos(\\varphi) \\\\ \\sin(\\theta) \\sin(\\varphi) \\\\ \\cos(\\theta) \\end{bmatrix}$$\n"
   ]
  },
  {
   "cell_type": "markdown",
   "id": "27b0818f-e17d-4e27-84b7-e1cf64240b44",
   "metadata": {},
   "source": [
    "Define the positive rotation matrices around the cartesian axis. This means that the rotation is according to the right hand rule. BUT! When you apply it to the data your rotate the data anticlockwise so is like the coordinate axis would rotate clockwise! Note that they are defined for the cartesian coordinates"
   ]
  },
  {
   "cell_type": "code",
   "execution_count": 2,
   "id": "e47bab25-54b7-47b5-9c5a-458230eb1ed5",
   "metadata": {},
   "outputs": [
    {
     "data": {
      "text/plain": [
       "'\\nimport math\\ndef Rx(math.radians(psi)):\\n    return np.matrix([[ 1, 0           , 0           ],\\n                       [ 0, m.cos(psi), -m.sin(psi)],\\n                       [ 0, m.sin(psi), m.cos(psi)]])\\n  \\ndef Ry(math.radians(psi)):\\n    return np.matrix([[ m.cos(psi), 0, m.sin(psi)],\\n                       [ 0          , 1, 0          ],\\n                       [-m.sin(psi), 0, m.cos(psi)]])\\n  \\ndef Rz(math.radians(psi)):\\n    return np.matrix([[ m.cos(psi), -m.sin(psi), 0 ],\\n                       [ m.sin(psi), m.cos(psi) , 0 ],\\n                       [ 0          , 0           , 1 ]])\\n'"
      ]
     },
     "execution_count": 2,
     "metadata": {},
     "output_type": "execute_result"
    }
   ],
   "source": [
    "\"\"\"\n",
    "import math\n",
    "def Rx(math.radians(psi)):\n",
    "    return np.matrix([[ 1, 0           , 0           ],\n",
    "                       [ 0, m.cos(psi), -m.sin(psi)],\n",
    "                       [ 0, m.sin(psi), m.cos(psi)]])\n",
    "  \n",
    "def Ry(math.radians(psi)):\n",
    "    return np.matrix([[ m.cos(psi), 0, m.sin(psi)],\n",
    "                       [ 0          , 1, 0          ],\n",
    "                       [-m.sin(psi), 0, m.cos(psi)]])\n",
    "  \n",
    "def Rz(math.radians(psi)):\n",
    "    return np.matrix([[ m.cos(psi), -m.sin(psi), 0 ],\n",
    "                       [ m.sin(psi), m.cos(psi) , 0 ],\n",
    "                       [ 0          , 0           , 1 ]])\n",
    "\"\"\""
   ]
  },
  {
   "cell_type": "markdown",
   "id": "be3e7537-4ebd-413c-9950-8541c8993889",
   "metadata": {},
   "source": [
    "Define the transformation from spherical to cartiesian coordinates and viceversa"
   ]
  },
  {
   "cell_type": "code",
   "execution_count": 3,
   "id": "11d72d01",
   "metadata": {},
   "outputs": [],
   "source": [
    "#Numerical error of 1e-5 when combining both functions for the longitude vector\n",
    "\n",
    "def spherical_to_cartesian(latitude, longitude):\n",
    "    from numpy import sin, cos, radians\n",
    "    \"\"\"\n",
    "    Converts spherical coordinates (theta, phi) to Cartesian coordinates (x, y, z). Assume R constant\n",
    "    \n",
    "    Parameters:\n",
    "        theta (float): Polar angle in radians (0 <= theta <= pi)\n",
    "        phi (float): Azimuthal angle in radians (0 <= phi < 2*pi)\n",
    "        \n",
    "    Returns:\n",
    "        tuple: Cartesian coordinates (x, y, z)\n",
    "    \"\"\"\n",
    "\n",
    "    earthRadius = 6371*(10**3)\n",
    "\n",
    "    theta = radians(90-latitude).ravel()\n",
    "    phi = radians(longitude).ravel()\n",
    "    \n",
    "    x = (earthRadius * sin(theta) * cos(phi)).reshape(longitude.shape)\n",
    "    y = (earthRadius * sin(theta) * sin(phi)).reshape(longitude.shape)\n",
    "    z = (earthRadius * cos(theta)).reshape(longitude.shape)\n",
    "    \n",
    "    return x, y, z\n",
    "\n",
    "def cartesian_to_spherical(x, y, z):  \n",
    "    \"\"\"\n",
    "    Converts Cartesian coordinates (x, y, z) to spherical coordinates (r, theta, phi).\n",
    "    \n",
    "    Parameters:\n",
    "        x (float): X-coordinate\n",
    "        y (float): Y-coordinate\n",
    "        z (float): Z-coordinate\n",
    "        \n",
    "    Returns:\n",
    "        tuple: Spherical coordinates (theta, phi). Assume R constant\n",
    "    \"\"\"\n",
    "    # Radial distance\n",
    "    #r = math.sqrt(x**2 + y**2 + z**2)\n",
    "    # Radial distance in the surface\n",
    "    earthRadius = 6371*(10**3)\n",
    "    \n",
    "    # Polar angle (theta) from the top theta=0 in the pole \n",
    "    theta = np.degrees(np.acos(z/earthRadius))\n",
    "    \n",
    "    # Azimuthal angle (phi)\n",
    "    phi = np.degrees(np.atan2(y, x))  # atan2 handles the correct quadrant for (y, x)\n",
    "    \n",
    "    return 90-theta, phi"
   ]
  },
  {
   "cell_type": "code",
   "execution_count": null,
   "id": "e1f95304",
   "metadata": {},
   "outputs": [],
   "source": []
  },
  {
   "cell_type": "markdown",
   "id": "53417f6c-657c-44b1-b279-c1e7fbafffe4",
   "metadata": {},
   "source": [
    "Let's define the complete transformation for $R_x(90^0)$:\n",
    "This transformation brings the NP to the equator (-y axis). Or, it brings the z axis to y and the y axis to -z."
   ]
  },
  {
   "cell_type": "code",
   "execution_count": 4,
   "id": "6903b4bc",
   "metadata": {},
   "outputs": [],
   "source": [
    "def polar_rotation_rx(latitude,longitude,psi):\n",
    "\n",
    "    from math import cos, sin, radians\n",
    "    \"\"\"\n",
    "    Rotates a set of geographical coordinates (latitude and longitude) around the x-axis by a specified angle (psi).\n",
    "\n",
    "    Parameters:\n",
    "    - latitude: A numpy array representing the latitude values in degrees.\n",
    "    - longitude: A numpy array representing the longitude values in degrees.\n",
    "    - psi: The angle of rotation in radians. This angle specifies how much the coordinates should be rotated around the x-axis.\n",
    "\n",
    "    Returns:\n",
    "    - A tuple of two masked numpy arrays:\n",
    "      - The first array contains the rotated latitude values.\n",
    "      - The second array contains the rotated longitude values.\n",
    "      Both arrays retain the mask from the input latitude and longitude arrays, ensuring that any masked values in the input are also masked in the output.\n",
    "\n",
    "    Description:\n",
    "    The function first constructs a rotation matrix `Rx` for rotating points around the x-axis by the angle `psi`. It then converts the input spherical coordinates (latitude and longitude) \n",
    "    into Cartesian coordinates. After applying the rotation matrix to these Cartesian coordinates, the function converts the rotated Cartesian coordinates back into spherical coordinates (latitude and longitude). \n",
    "    Finally, it returns the rotated coordinates as masked arrays, preserving any masks from the input arrays.\n",
    "    \"\"\"\n",
    "    Rx = np.matrix([[ 1, 0         , 0          ],\n",
    "                [ 0, cos(radians(psi)), -sin(radians(psi))],\n",
    "                [ 0, sin(radians(psi)), cos(radians(psi))]])\n",
    "    \n",
    "    x, y, z = spherical_to_cartesian(latitude,longitude)\n",
    "    rot_cartesian_matrix = Rx @ np.array([x.ravel(),y.ravel(),z.ravel()])\n",
    "    lat_r, lon_r = cartesian_to_spherical(rot_cartesian_matrix[0,:].reshape(longitude.shape),rot_cartesian_matrix[1,:].reshape(longitude.shape),rot_cartesian_matrix[2,:].reshape(longitude.shape))\n",
    "    #assign the mask\n",
    "    return lat_r, lon_r"
   ]
  }
 ],
 "metadata": {
  "kernelspec": {
   "display_name": "Spectral_Clustering_venv",
   "language": "python",
   "name": "python3"
  },
  "language_info": {
   "codemirror_mode": {
    "name": "ipython",
    "version": 3
   },
   "file_extension": ".py",
   "mimetype": "text/x-python",
   "name": "python",
   "nbconvert_exporter": "python",
   "pygments_lexer": "ipython3",
   "version": "3.12.2"
  }
 },
 "nbformat": 4,
 "nbformat_minor": 5
}
