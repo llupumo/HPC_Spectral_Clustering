{
 "cells": [
  {
   "cell_type": "markdown",
   "id": "120a6e13-e014-4f84-9ba1-a88642cd4c7b",
   "metadata": {},
   "source": [
    "# Polar stereographic projection\n",
    "\n"
   ]
  },
  {
   "cell_type": "code",
   "execution_count": 1,
   "id": "65ca9972",
   "metadata": {},
   "outputs": [],
   "source": [
    "import sys, os\n",
    "import numpy as np\n",
    "\n",
    "\n",
    "# get current directory\\n\n",
    "path = os.getcwd()\n",
    "# get parent directory\n",
    "parent_directory = \"/home/llu\"\n",
    "#T_Barrier directory\n",
    "T_Barrier_directory = parent_directory+\"/Programs/TBarrier-main/TBarrier/2D/\"\n",
    "\n",
    "# add convert folder to current working path\n",
    "sys.path.append(T_Barrier_directory+\"data/AVISO\")"
   ]
  },
  {
   "cell_type": "markdown",
   "id": "9d7ef59c-6b29-4555-9030-2013b69aba3c",
   "metadata": {},
   "source": [
    "## Read data"
   ]
  },
  {
   "cell_type": "code",
   "execution_count": 2,
   "id": "9e10f8fc-f372-4b61-9999-df93acb47eae",
   "metadata": {},
   "outputs": [],
   "source": [
    "import netCDF4 as nc\n",
    "\n",
    "# Open the NetCDF file\n",
    "file_path = parent_directory+'/Data/NeXtSIM/OPA-neXtSIM_CREG025_ILBOXE140_2010_ice.nc'  \n",
    "dataset = nc.Dataset(file_path, mode='r')\n",
    "\n",
    "coordinates_path =  parent_directory+'/Data/NeXtSIM/OPA-neXtSIM_CREG025_ILBOXE140_2010_gridU_oce.nc'  \n",
    "coordinates = nc.Dataset(coordinates_path, mode='r')\n",
    "\n",
    "metadata_path =  parent_directory+'/Data/NeXtSIM/mesh_mask_CREG025_3.6_NoMed.nc'  \n",
    "metadata = nc.Dataset(metadata_path, mode='r')\n",
    "\n",
    "# Access specific variables\n",
    "time = dataset.variables['time'][:]  \n",
    "siu = dataset.variables['siu'][:]  \n",
    "siv = dataset.variables['siv'][:]  \n",
    "\n",
    "# Access coordinates\n",
    "latitude = coordinates.variables['nav_lat'][:]  \n",
    "longitude = coordinates.variables['nav_lon'][:]\n",
    "\n",
    "# Access metadata\n",
    "e1u = metadata.variables['e1u'][:]  \n",
    "e2v = metadata.variables['e2v'][:]\n",
    "\n",
    "# Close the dataset when done\n",
    "dataset.close()\n",
    "coordinates.close()\n",
    "metadata.close()\n"
   ]
  },
  {
   "cell_type": "code",
   "execution_count": 3,
   "id": "1aded3ea",
   "metadata": {},
   "outputs": [
    {
     "data": {
      "text/plain": [
       "(603, 528)"
      ]
     },
     "execution_count": 3,
     "metadata": {},
     "output_type": "execute_result"
    }
   ],
   "source": [
    "latitude.shape"
   ]
  },
  {
   "cell_type": "code",
   "execution_count": 4,
   "id": "41727bee-c2cd-4629-a156-5a939caf90e4",
   "metadata": {},
   "outputs": [],
   "source": [
    "## Cut the length of the timeseries to 20 for optimisation during developing"
   ]
  },
  {
   "cell_type": "code",
   "execution_count": 5,
   "id": "93bd91ea-e9d9-4383-9692-b9253a7a2618",
   "metadata": {},
   "outputs": [],
   "source": [
    "siu = siu[:200, :, :]\n",
    "siv = siv[:200, :, :]\n",
    "time = time[200:1]"
   ]
  },
  {
   "cell_type": "code",
   "execution_count": 6,
   "id": "b602a3f5-1fe5-4ded-b059-ca47e3ed541d",
   "metadata": {},
   "outputs": [],
   "source": [
    "## Change of units"
   ]
  },
  {
   "cell_type": "markdown",
   "id": "4b2bd03a-a482-4430-b39e-e5ae99e0e5d7",
   "metadata": {},
   "source": [
    "Note that the velocities $siu$ and $siv$ are given in $m/s$. Since we advect the trajectories in latitude and longitude, we need to transform the units to $deg/s$. \\\n",
    "To do so we use the function convert_meters_per_second_to_deg_per_day$(X, Y, U\\_ms, V\\_ms)$ from the TBarrier package."
   ]
  },
  {
   "cell_type": "code",
   "execution_count": 7,
   "id": "8af6590e-4b14-4c4d-b2d4-81b38f831c64",
   "metadata": {},
   "outputs": [],
   "source": [
    "# Import convert_meters_per_second_to_deg_per_day function for unsteady flow field\n",
    "from ipynb.fs.defs.convert_meters_per_second_to_deg_per_day import convert_meters_per_second_to_deg_per_day\n",
    "import numpy as np "
   ]
  },
  {
   "cell_type": "code",
   "execution_count": 8,
   "id": "bf614909-2049-486e-99c0-2fdac7fe39a8",
   "metadata": {},
   "outputs": [],
   "source": [
    "#Transpose the velocity matrix to match the dimensions required by the function\n",
    "siu_t = np.transpose(siu, (1, 2, 0))\n",
    "siv_t = np.transpose(siv, (1, 2, 0))"
   ]
  },
  {
   "cell_type": "code",
   "execution_count": 9,
   "id": "0286e736-9949-48b6-922e-a65e82150fbf",
   "metadata": {},
   "outputs": [
    {
     "data": {
      "text/plain": [
       "(200, 603, 528)"
      ]
     },
     "execution_count": 9,
     "metadata": {},
     "output_type": "execute_result"
    }
   ],
   "source": [
    "siu.shape"
   ]
  },
  {
   "cell_type": "code",
   "execution_count": 10,
   "id": "72a60240-0a22-462f-bddb-6e36adc7b866",
   "metadata": {},
   "outputs": [
    {
     "ename": "KeyboardInterrupt",
     "evalue": "",
     "output_type": "error",
     "traceback": [
      "\u001b[0;31m---------------------------------------------------------------------------\u001b[0m",
      "\u001b[0;31mKeyboardInterrupt\u001b[0m                         Traceback (most recent call last)",
      "Cell \u001b[0;32mIn[10], line 1\u001b[0m\n\u001b[0;32m----> 1\u001b[0m siu_deg_day, siv_deg_day \u001b[38;5;241m=\u001b[39m \u001b[43mconvert_meters_per_second_to_deg_per_day\u001b[49m\u001b[43m(\u001b[49m\u001b[43mlongitude\u001b[49m\u001b[43m,\u001b[49m\u001b[43m \u001b[49m\u001b[43mlatitude\u001b[49m\u001b[43m \u001b[49m\u001b[43m,\u001b[49m\u001b[43m \u001b[49m\u001b[43msiu_t\u001b[49m\u001b[43m,\u001b[49m\u001b[43m \u001b[49m\u001b[43msiv_t\u001b[49m\u001b[43m)\u001b[49m\n",
      "File \u001b[0;32m~/Programs/TBarrier-main/TBarrier/2D/data/AVISO/convert_meters_per_second_to_deg_per_day.ipynb:47\u001b[0m, in \u001b[0;36mconvert_meters_per_second_to_deg_per_day\u001b[0;34m(X, Y, U_ms, V_ms)\u001b[0m\n\u001b[1;32m      1\u001b[0m {\n\u001b[1;32m      2\u001b[0m  \u001b[38;5;124m\"\u001b[39m\u001b[38;5;124mcells\u001b[39m\u001b[38;5;124m\"\u001b[39m: [\n\u001b[1;32m      3\u001b[0m   {\n\u001b[1;32m      4\u001b[0m    \u001b[38;5;124m\"\u001b[39m\u001b[38;5;124mcell_type\u001b[39m\u001b[38;5;124m\"\u001b[39m: \u001b[38;5;124m\"\u001b[39m\u001b[38;5;124mmarkdown\u001b[39m\u001b[38;5;124m\"\u001b[39m,\n\u001b[1;32m      5\u001b[0m    \u001b[38;5;124m\"\u001b[39m\u001b[38;5;124mid\u001b[39m\u001b[38;5;124m\"\u001b[39m: \u001b[38;5;124m\"\u001b[39m\u001b[38;5;124mcc572ad5\u001b[39m\u001b[38;5;124m\"\u001b[39m,\n\u001b[1;32m      6\u001b[0m    \u001b[38;5;124m\"\u001b[39m\u001b[38;5;124mmetadata\u001b[39m\u001b[38;5;124m\"\u001b[39m: {},\n\u001b[1;32m      7\u001b[0m    \u001b[38;5;124m\"\u001b[39m\u001b[38;5;124msource\u001b[39m\u001b[38;5;124m\"\u001b[39m: [\n\u001b[1;32m      8\u001b[0m     \u001b[38;5;124m\"\u001b[39m\u001b[38;5;124mThe units of the velocity field must match the units of the grid coordinates and time. Oceanographic velocity fields are often given in the units $ \u001b[39m\u001b[38;5;130;01m\\\\\u001b[39;00m\u001b[38;5;124mdfrac\u001b[39m\u001b[38;5;124m{\u001b[39m\u001b[38;5;130;01m\\\\\u001b[39;00m\u001b[38;5;124mmathrm\u001b[39m\u001b[38;5;132;01m{meters}\u001b[39;00m\u001b[38;5;124m}\u001b[39m\u001b[38;5;124m{\u001b[39m\u001b[38;5;130;01m\\\\\u001b[39;00m\u001b[38;5;124mmathrm\u001b[39m\u001b[38;5;132;01m{second}\u001b[39;00m\u001b[38;5;124m} (= \u001b[39m\u001b[38;5;130;01m\\\\\u001b[39;00m\u001b[38;5;124mdfrac\u001b[39m\u001b[38;5;132;01m{m}\u001b[39;00m\u001b[38;5;132;01m{s}\u001b[39;00m\u001b[38;5;124m)$, whereas the grid and time coordinates are respectively given in degrees (=deg) and days (d). We account for this mismatch by converting the units of the velocity field to $ \u001b[39m\u001b[38;5;130;01m\\\\\u001b[39;00m\u001b[38;5;124mdfrac\u001b[39m\u001b[38;5;124m{\u001b[39m\u001b[38;5;130;01m\\\\\u001b[39;00m\u001b[38;5;124mmathrm\u001b[39m\u001b[38;5;132;01m{deg}\u001b[39;00m\u001b[38;5;124m}\u001b[39m\u001b[38;5;124m{\u001b[39m\u001b[38;5;130;01m\\\\\u001b[39;00m\u001b[38;5;124mmathrm\u001b[39m\u001b[38;5;132;01m{d}\u001b[39;00m\u001b[38;5;124m} $:\u001b[39m\u001b[38;5;130;01m\\n\u001b[39;00m\u001b[38;5;124m\"\u001b[39m,\n\u001b[1;32m      9\u001b[0m     \u001b[38;5;124m\"\u001b[39m\u001b[38;5;130;01m\\n\u001b[39;00m\u001b[38;5;124m\"\u001b[39m,\n\u001b[1;32m     10\u001b[0m     \u001b[38;5;124m\"\u001b[39m\u001b[38;5;130;01m\\\\\u001b[39;00m\u001b[38;5;124mbegin\u001b[39m\u001b[38;5;132;01m{align}\u001b[39;00m\u001b[38;5;130;01m\\n\u001b[39;00m\u001b[38;5;124m\"\u001b[39m,\n\u001b[1;32m     11\u001b[0m     \u001b[38;5;124m\"\u001b[39m\u001b[38;5;130;01m\\\\\u001b[39;00m\u001b[38;5;124mdot\u001b[39m\u001b[38;5;124m{\u001b[39m\u001b[38;5;130;01m\\\\\u001b[39;00m\u001b[38;5;124mvarphi} &= \u001b[39m\u001b[38;5;130;01m\\\\\u001b[39;00m\u001b[38;5;124mdfrac\u001b[39m\u001b[38;5;132;01m{U}\u001b[39;00m\u001b[38;5;124m{\u001b[39m\u001b[38;5;124mR\u001b[39m\u001b[38;5;130;01m\\\\\u001b[39;00m\u001b[38;5;124mcos(\u001b[39m\u001b[38;5;130;01m\\\\\u001b[39;00m\u001b[38;5;124mtheta)}\u001b[39m\u001b[38;5;130;01m\\\\\u001b[39;00m\u001b[38;5;124mdfrac\u001b[39m\u001b[38;5;124m{\u001b[39m\u001b[38;5;124m180 \u001b[39m\u001b[38;5;130;01m\\\\\u001b[39;00m\u001b[38;5;124mcdot 24 \u001b[39m\u001b[38;5;130;01m\\\\\u001b[39;00m\u001b[38;5;124mcdot 3600}\u001b[39m\u001b[38;5;124m{\u001b[39m\u001b[38;5;130;01m\\\\\u001b[39;00m\u001b[38;5;124mpi} \u001b[39m\u001b[38;5;130;01m\\\\\u001b[39;00m\u001b[38;5;124mtag\u001b[39m\u001b[38;5;132;01m{1}\u001b[39;00m\u001b[38;5;124m \u001b[39m\u001b[38;5;130;01m\\\\\u001b[39;00m\u001b[38;5;130;01m\\\\\u001b[39;00m\u001b[38;5;130;01m\\n\u001b[39;00m\u001b[38;5;124m\"\u001b[39m,\n\u001b[1;32m     12\u001b[0m     \u001b[38;5;124m\"\u001b[39m\u001b[38;5;130;01m\\\\\u001b[39;00m\u001b[38;5;124mdot\u001b[39m\u001b[38;5;124m{\u001b[39m\u001b[38;5;130;01m\\\\\u001b[39;00m\u001b[38;5;124mtheta} &= \u001b[39m\u001b[38;5;130;01m\\\\\u001b[39;00m\u001b[38;5;124mdfrac\u001b[39m\u001b[38;5;132;01m{V}\u001b[39;00m\u001b[38;5;132;01m{R}\u001b[39;00m\u001b[38;5;130;01m\\\\\u001b[39;00m\u001b[38;5;124mdfrac\u001b[39m\u001b[38;5;124m{\u001b[39m\u001b[38;5;124m180 \u001b[39m\u001b[38;5;130;01m\\\\\u001b[39;00m\u001b[38;5;124mcdot 24 \u001b[39m\u001b[38;5;130;01m\\\\\u001b[39;00m\u001b[38;5;124mcdot 3600}\u001b[39m\u001b[38;5;124m{\u001b[39m\u001b[38;5;130;01m\\\\\u001b[39;00m\u001b[38;5;124mpi} \u001b[39m\u001b[38;5;130;01m\\\\\u001b[39;00m\u001b[38;5;124mtag\u001b[39m\u001b[38;5;132;01m{2}\u001b[39;00m\u001b[38;5;124m,\u001b[39m\u001b[38;5;130;01m\\n\u001b[39;00m\u001b[38;5;124m\"\u001b[39m,\n\u001b[1;32m     13\u001b[0m     \u001b[38;5;124m\"\u001b[39m\u001b[38;5;130;01m\\\\\u001b[39;00m\u001b[38;5;124mend\u001b[39m\u001b[38;5;132;01m{align}\u001b[39;00m\u001b[38;5;124mwhere $ \u001b[39m\u001b[38;5;130;01m\\\\\u001b[39;00m\u001b[38;5;124mvarphi, \u001b[39m\u001b[38;5;130;01m\\\\\u001b[39;00m\u001b[38;5;124mtheta $ respectively are the longitudinal and latitudinal position of the particle, $ U, V $ are the x/y-component of the velocity field in $ \u001b[39m\u001b[38;5;130;01m\\\\\u001b[39;00m\u001b[38;5;124mdfrac\u001b[39m\u001b[38;5;132;01m{m}\u001b[39;00m\u001b[38;5;132;01m{s}\u001b[39;00m\u001b[38;5;124m $. $ \u001b[39m\u001b[38;5;130;01m\\\\\u001b[39;00m\u001b[38;5;124mmathrm\u001b[39m\u001b[38;5;132;01m{R}\u001b[39;00m\u001b[38;5;124m $ is the radius of the earth (in $ \u001b[39m\u001b[38;5;130;01m\\\\\u001b[39;00m\u001b[38;5;124mmathrm\u001b[39m\u001b[38;5;132;01m{m}\u001b[39;00m\u001b[38;5;124m $) and $ \u001b[39m\u001b[38;5;130;01m\\\\\u001b[39;00m\u001b[38;5;124mdot\u001b[39m\u001b[38;5;124m{\u001b[39m\u001b[38;5;130;01m\\\\\u001b[39;00m\u001b[38;5;124mvarphi} $ and $ \u001b[39m\u001b[38;5;130;01m\\\\\u001b[39;00m\u001b[38;5;124mdot\u001b[39m\u001b[38;5;124m{\u001b[39m\u001b[38;5;130;01m\\\\\u001b[39;00m\u001b[38;5;124mtheta} $ are then respectively the x/y-component of the velocity field in ($ \u001b[39m\u001b[38;5;130;01m\\\\\u001b[39;00m\u001b[38;5;124mdfrac\u001b[39m\u001b[38;5;124m{\u001b[39m\u001b[38;5;130;01m\\\\\u001b[39;00m\u001b[38;5;124mmathrm\u001b[39m\u001b[38;5;132;01m{deg}\u001b[39;00m\u001b[38;5;124m}\u001b[39m\u001b[38;5;124m{\u001b[39m\u001b[38;5;130;01m\\\\\u001b[39;00m\u001b[38;5;124mmathrm\u001b[39m\u001b[38;5;132;01m{d}\u001b[39;00m\u001b[38;5;124m} $).\u001b[39m\u001b[38;5;124m\"\u001b[39m\n\u001b[1;32m     14\u001b[0m    ]\n\u001b[1;32m     15\u001b[0m   },\n\u001b[1;32m     16\u001b[0m   {\n\u001b[1;32m     17\u001b[0m    \u001b[38;5;124m\"\u001b[39m\u001b[38;5;124mcell_type\u001b[39m\u001b[38;5;124m\"\u001b[39m: \u001b[38;5;124m\"\u001b[39m\u001b[38;5;124mcode\u001b[39m\u001b[38;5;124m\"\u001b[39m,\n\u001b[1;32m     18\u001b[0m    \u001b[38;5;124m\"\u001b[39m\u001b[38;5;124mexecution_count\u001b[39m\u001b[38;5;124m\"\u001b[39m: null,\n\u001b[1;32m     19\u001b[0m    \u001b[38;5;124m\"\u001b[39m\u001b[38;5;124mid\u001b[39m\u001b[38;5;124m\"\u001b[39m: \u001b[38;5;124m\"\u001b[39m\u001b[38;5;124mbcbca8d8\u001b[39m\u001b[38;5;124m\"\u001b[39m,\n\u001b[1;32m     20\u001b[0m    \u001b[38;5;124m\"\u001b[39m\u001b[38;5;124mmetadata\u001b[39m\u001b[38;5;124m\"\u001b[39m: {\n\u001b[1;32m     21\u001b[0m     \u001b[38;5;124m\"\u001b[39m\u001b[38;5;124mcode_folding\u001b[39m\u001b[38;5;124m\"\u001b[39m: [\n\u001b[1;32m     22\u001b[0m      \u001b[38;5;241m0\u001b[39m\n\u001b[1;32m     23\u001b[0m     ]\n\u001b[1;32m     24\u001b[0m    },\n\u001b[1;32m     25\u001b[0m    \u001b[38;5;124m\"\u001b[39m\u001b[38;5;124moutputs\u001b[39m\u001b[38;5;124m\"\u001b[39m: [],\n\u001b[1;32m     26\u001b[0m    \u001b[38;5;124m\"\u001b[39m\u001b[38;5;124msource\u001b[39m\u001b[38;5;124m\"\u001b[39m: [\n\u001b[1;32m     27\u001b[0m     \u001b[38;5;124m\"\u001b[39m\u001b[38;5;124mdef convert_meters_per_second_to_deg_per_day(X, Y, U_ms, V_ms):\u001b[39m\u001b[38;5;130;01m\\n\u001b[39;00m\u001b[38;5;124m\"\u001b[39m,\n\u001b[1;32m     28\u001b[0m     \u001b[38;5;124m\"\u001b[39m\u001b[38;5;124m    \u001b[39m\u001b[38;5;130;01m\\n\u001b[39;00m\u001b[38;5;124m\"\u001b[39m,\n\u001b[1;32m     29\u001b[0m     \u001b[38;5;124m\"\u001b[39m\u001b[38;5;124m    \u001b[39m\u001b[38;5;124m'\u001b[39m\u001b[38;5;124m'\u001b[39m\u001b[38;5;124m'\u001b[39m\u001b[38;5;130;01m\\n\u001b[39;00m\u001b[38;5;124m\"\u001b[39m,\n\u001b[1;32m     30\u001b[0m     \u001b[38;5;124m\"\u001b[39m\u001b[38;5;124m    Converts units of velocity from m/s to deg/day. The units of the velocity field must \u001b[39m\u001b[38;5;130;01m\\n\u001b[39;00m\u001b[38;5;124m\"\u001b[39m,\n\u001b[1;32m     31\u001b[0m     \u001b[38;5;124m\"\u001b[39m\u001b[38;5;124m    match the units of the grid coordinates and time.\u001b[39m\u001b[38;5;130;01m\\n\u001b[39;00m\u001b[38;5;124m\"\u001b[39m,\n\u001b[1;32m     32\u001b[0m     \u001b[38;5;124m\"\u001b[39m\u001b[38;5;124m    \u001b[39m\u001b[38;5;130;01m\\n\u001b[39;00m\u001b[38;5;124m\"\u001b[39m,\n\u001b[1;32m     33\u001b[0m     \u001b[38;5;124m\"\u001b[39m\u001b[38;5;124m    Parameters:\u001b[39m\u001b[38;5;130;01m\\n\u001b[39;00m\u001b[38;5;124m\"\u001b[39m,\n\u001b[1;32m     34\u001b[0m     \u001b[38;5;124m\"\u001b[39m\u001b[38;5;124m        X:       array(Ny, Nx), X-meshgrid.\u001b[39m\u001b[38;5;130;01m\\n\u001b[39;00m\u001b[38;5;124m\"\u001b[39m,\n\u001b[1;32m     35\u001b[0m     \u001b[38;5;124m\"\u001b[39m\u001b[38;5;124m        Y:       array(Ny, Nx), Y-meshgrid.\u001b[39m\u001b[38;5;130;01m\\n\u001b[39;00m\u001b[38;5;124m\"\u001b[39m,\n\u001b[1;32m     36\u001b[0m     \u001b[38;5;124m\"\u001b[39m\u001b[38;5;124m        U_ms:    array(Ny, Nx, Nt), x-component of velocity field in m/s\u001b[39m\u001b[38;5;130;01m\\n\u001b[39;00m\u001b[38;5;124m\"\u001b[39m,\n\u001b[1;32m     37\u001b[0m     \u001b[38;5;124m\"\u001b[39m\u001b[38;5;124m        V_ms:    array(Ny, Nx, Nt), y-component of velocity field in m/s\u001b[39m\u001b[38;5;130;01m\\n\u001b[39;00m\u001b[38;5;124m\"\u001b[39m,\n\u001b[1;32m     38\u001b[0m     \u001b[38;5;124m\"\u001b[39m\u001b[38;5;124m         \u001b[39m\u001b[38;5;130;01m\\n\u001b[39;00m\u001b[38;5;124m\"\u001b[39m,\n\u001b[1;32m     39\u001b[0m     \u001b[38;5;124m\"\u001b[39m\u001b[38;5;124m    Returns:\u001b[39m\u001b[38;5;130;01m\\n\u001b[39;00m\u001b[38;5;124m\"\u001b[39m,\n\u001b[1;32m     40\u001b[0m     \u001b[38;5;124m\"\u001b[39m\u001b[38;5;124m        U_degday:    array(Ny, Nx, Nt), x-component of velocity field in deg/day\u001b[39m\u001b[38;5;130;01m\\n\u001b[39;00m\u001b[38;5;124m\"\u001b[39m,\n\u001b[1;32m     41\u001b[0m     \u001b[38;5;124m\"\u001b[39m\u001b[38;5;124m        V_degday:    array(Ny, Nx, Nt), y-component of velocity field in deg/day\u001b[39m\u001b[38;5;130;01m\\n\u001b[39;00m\u001b[38;5;124m\"\u001b[39m,\n\u001b[1;32m     42\u001b[0m     \u001b[38;5;124m\"\u001b[39m\u001b[38;5;124m    \u001b[39m\u001b[38;5;124m'\u001b[39m\u001b[38;5;124m'\u001b[39m\u001b[38;5;124m'\u001b[39m\u001b[38;5;130;01m\\n\u001b[39;00m\u001b[38;5;124m\"\u001b[39m,\n\u001b[1;32m     43\u001b[0m     \u001b[38;5;124m\"\u001b[39m\u001b[38;5;124m    \u001b[39m\u001b[38;5;130;01m\\n\u001b[39;00m\u001b[38;5;124m\"\u001b[39m,\n\u001b[1;32m     44\u001b[0m     \u001b[38;5;124m\"\u001b[39m\u001b[38;5;124m    # import numpy\u001b[39m\u001b[38;5;130;01m\\n\u001b[39;00m\u001b[38;5;124m\"\u001b[39m,\n\u001b[1;32m     45\u001b[0m     \u001b[38;5;124m\"\u001b[39m\u001b[38;5;124m    import numpy as np\u001b[39m\u001b[38;5;130;01m\\n\u001b[39;00m\u001b[38;5;124m\"\u001b[39m,\n\u001b[1;32m     46\u001b[0m     \u001b[38;5;124m\"\u001b[39m\u001b[38;5;124m    \u001b[39m\u001b[38;5;130;01m\\n\u001b[39;00m\u001b[38;5;124m\"\u001b[39m,\n\u001b[0;32m---> 47\u001b[0m     \u001b[38;5;124m\"\u001b[39m\u001b[38;5;124m    # import math tools\u001b[39m\u001b[38;5;130;01m\\n\u001b[39;00m\u001b[38;5;124m\"\u001b[39m,\n\u001b[1;32m     48\u001b[0m     \u001b[38;5;124m\"\u001b[39m\u001b[38;5;124m    from math import cos, pi\u001b[39m\u001b[38;5;130;01m\\n\u001b[39;00m\u001b[38;5;124m\"\u001b[39m,\n\u001b[1;32m     49\u001b[0m     \u001b[38;5;124m\"\u001b[39m\u001b[38;5;124m    \u001b[39m\u001b[38;5;130;01m\\n\u001b[39;00m\u001b[38;5;124m\"\u001b[39m,\n\u001b[1;32m     50\u001b[0m     \u001b[38;5;124m\"\u001b[39m\u001b[38;5;124m    # Velocity field\u001b[39m\u001b[38;5;130;01m\\n\u001b[39;00m\u001b[38;5;124m\"\u001b[39m,\n\u001b[1;32m     51\u001b[0m     \u001b[38;5;124m\"\u001b[39m\u001b[38;5;124m    U_degday, V_degday = np.nan*U_ms.copy(), np.nan*V_ms.copy()\u001b[39m\u001b[38;5;130;01m\\n\u001b[39;00m\u001b[38;5;124m\"\u001b[39m,\n\u001b[1;32m     52\u001b[0m     \u001b[38;5;124m\"\u001b[39m\u001b[38;5;124m    \u001b[39m\u001b[38;5;130;01m\\n\u001b[39;00m\u001b[38;5;124m\"\u001b[39m,\n\u001b[1;32m     53\u001b[0m     \u001b[38;5;124m\"\u001b[39m\u001b[38;5;124m    # Radius of the earth\u001b[39m\u001b[38;5;130;01m\\n\u001b[39;00m\u001b[38;5;124m\"\u001b[39m,\n\u001b[1;32m     54\u001b[0m     \u001b[38;5;124m\"\u001b[39m\u001b[38;5;124m    earthRadius = 6371*(10**3)\u001b[39m\u001b[38;5;130;01m\\n\u001b[39;00m\u001b[38;5;124m\"\u001b[39m,\n\u001b[1;32m     55\u001b[0m     \u001b[38;5;124m\"\u001b[39m\u001b[38;5;124m    \u001b[39m\u001b[38;5;130;01m\\n\u001b[39;00m\u001b[38;5;124m\"\u001b[39m,\n\u001b[1;32m     56\u001b[0m     \u001b[38;5;124m\"\u001b[39m\u001b[38;5;124m    # Iterate over grid\u001b[39m\u001b[38;5;130;01m\\n\u001b[39;00m\u001b[38;5;124m\"\u001b[39m,\n\u001b[1;32m     57\u001b[0m     \u001b[38;5;124m\"\u001b[39m\u001b[38;5;124m    for i in range(X.shape[0]):\u001b[39m\u001b[38;5;130;01m\\n\u001b[39;00m\u001b[38;5;124m\"\u001b[39m,\n\u001b[1;32m     58\u001b[0m     \u001b[38;5;124m\"\u001b[39m\u001b[38;5;124m        for j in range(Y.shape[1]):\u001b[39m\u001b[38;5;130;01m\\n\u001b[39;00m\u001b[38;5;124m\"\u001b[39m,\n\u001b[1;32m     59\u001b[0m     \u001b[38;5;124m\"\u001b[39m\u001b[38;5;124m            U_degday[i, j, :] = (U_ms[i, j, :] / (cos(Y[i,j]*(pi/180))*(earthRadius)))*180*3600*24/pi\u001b[39m\u001b[38;5;130;01m\\n\u001b[39;00m\u001b[38;5;124m\"\u001b[39m,\n\u001b[1;32m     60\u001b[0m     \u001b[38;5;124m\"\u001b[39m\u001b[38;5;124m            V_degday[i, j, :] = (V_ms[i, j, :] / earthRadius)*180*3600*24/pi\u001b[39m\u001b[38;5;130;01m\\n\u001b[39;00m\u001b[38;5;124m\"\u001b[39m,\n\u001b[1;32m     61\u001b[0m     \u001b[38;5;124m\"\u001b[39m\u001b[38;5;124m        \u001b[39m\u001b[38;5;130;01m\\n\u001b[39;00m\u001b[38;5;124m\"\u001b[39m,\n\u001b[1;32m     62\u001b[0m     \u001b[38;5;124m\"\u001b[39m\u001b[38;5;124m    return U_degday, V_degday\u001b[39m\u001b[38;5;124m\"\u001b[39m\n\u001b[1;32m     63\u001b[0m    ]\n\u001b[1;32m     64\u001b[0m   }\n\u001b[1;32m     65\u001b[0m  ],\n\u001b[1;32m     66\u001b[0m  \u001b[38;5;124m\"\u001b[39m\u001b[38;5;124mmetadata\u001b[39m\u001b[38;5;124m\"\u001b[39m: {\n\u001b[1;32m     67\u001b[0m   \u001b[38;5;124m\"\u001b[39m\u001b[38;5;124mkernelspec\u001b[39m\u001b[38;5;124m\"\u001b[39m: {\n\u001b[1;32m     68\u001b[0m    \u001b[38;5;124m\"\u001b[39m\u001b[38;5;124mdisplay_name\u001b[39m\u001b[38;5;124m\"\u001b[39m: \u001b[38;5;124m\"\u001b[39m\u001b[38;5;124mPython 3 (ipykernel)\u001b[39m\u001b[38;5;124m\"\u001b[39m,\n\u001b[1;32m     69\u001b[0m    \u001b[38;5;124m\"\u001b[39m\u001b[38;5;124mlanguage\u001b[39m\u001b[38;5;124m\"\u001b[39m: \u001b[38;5;124m\"\u001b[39m\u001b[38;5;124mpython\u001b[39m\u001b[38;5;124m\"\u001b[39m,\n\u001b[1;32m     70\u001b[0m    \u001b[38;5;124m\"\u001b[39m\u001b[38;5;124mname\u001b[39m\u001b[38;5;124m\"\u001b[39m: \u001b[38;5;124m\"\u001b[39m\u001b[38;5;124mpython3\u001b[39m\u001b[38;5;124m\"\u001b[39m\n\u001b[1;32m     71\u001b[0m   },\n\u001b[1;32m     72\u001b[0m   \u001b[38;5;124m\"\u001b[39m\u001b[38;5;124mlanguage_info\u001b[39m\u001b[38;5;124m\"\u001b[39m: {\n\u001b[1;32m     73\u001b[0m    \u001b[38;5;124m\"\u001b[39m\u001b[38;5;124mcodemirror_mode\u001b[39m\u001b[38;5;124m\"\u001b[39m: {\n\u001b[1;32m     74\u001b[0m     \u001b[38;5;124m\"\u001b[39m\u001b[38;5;124mname\u001b[39m\u001b[38;5;124m\"\u001b[39m: \u001b[38;5;124m\"\u001b[39m\u001b[38;5;124mipython\u001b[39m\u001b[38;5;124m\"\u001b[39m,\n\u001b[1;32m     75\u001b[0m     \u001b[38;5;124m\"\u001b[39m\u001b[38;5;124mversion\u001b[39m\u001b[38;5;124m\"\u001b[39m: \u001b[38;5;241m3\u001b[39m\n\u001b[1;32m     76\u001b[0m    },\n\u001b[1;32m     77\u001b[0m    \u001b[38;5;124m\"\u001b[39m\u001b[38;5;124mfile_extension\u001b[39m\u001b[38;5;124m\"\u001b[39m: \u001b[38;5;124m\"\u001b[39m\u001b[38;5;124m.py\u001b[39m\u001b[38;5;124m\"\u001b[39m,\n\u001b[1;32m     78\u001b[0m    \u001b[38;5;124m\"\u001b[39m\u001b[38;5;124mmimetype\u001b[39m\u001b[38;5;124m\"\u001b[39m: \u001b[38;5;124m\"\u001b[39m\u001b[38;5;124mtext/x-python\u001b[39m\u001b[38;5;124m\"\u001b[39m,\n\u001b[1;32m     79\u001b[0m    \u001b[38;5;124m\"\u001b[39m\u001b[38;5;124mname\u001b[39m\u001b[38;5;124m\"\u001b[39m: \u001b[38;5;124m\"\u001b[39m\u001b[38;5;124mpython\u001b[39m\u001b[38;5;124m\"\u001b[39m,\n\u001b[1;32m     80\u001b[0m    \u001b[38;5;124m\"\u001b[39m\u001b[38;5;124mnbconvert_exporter\u001b[39m\u001b[38;5;124m\"\u001b[39m: \u001b[38;5;124m\"\u001b[39m\u001b[38;5;124mpython\u001b[39m\u001b[38;5;124m\"\u001b[39m,\n\u001b[1;32m     81\u001b[0m    \u001b[38;5;124m\"\u001b[39m\u001b[38;5;124mpygments_lexer\u001b[39m\u001b[38;5;124m\"\u001b[39m: \u001b[38;5;124m\"\u001b[39m\u001b[38;5;124mipython3\u001b[39m\u001b[38;5;124m\"\u001b[39m,\n\u001b[1;32m     82\u001b[0m    \u001b[38;5;124m\"\u001b[39m\u001b[38;5;124mversion\u001b[39m\u001b[38;5;124m\"\u001b[39m: \u001b[38;5;124m\"\u001b[39m\u001b[38;5;124m3.12.3\u001b[39m\u001b[38;5;124m\"\u001b[39m\n\u001b[1;32m     83\u001b[0m   },\n\u001b[1;32m     84\u001b[0m   \u001b[38;5;124m\"\u001b[39m\u001b[38;5;124mtoc\u001b[39m\u001b[38;5;124m\"\u001b[39m: {\n\u001b[1;32m     85\u001b[0m    \u001b[38;5;124m\"\u001b[39m\u001b[38;5;124mbase_numbering\u001b[39m\u001b[38;5;124m\"\u001b[39m: \u001b[38;5;241m1\u001b[39m,\n\u001b[1;32m     86\u001b[0m    \u001b[38;5;124m\"\u001b[39m\u001b[38;5;124mnav_menu\u001b[39m\u001b[38;5;124m\"\u001b[39m: {},\n\u001b[1;32m     87\u001b[0m    \u001b[38;5;124m\"\u001b[39m\u001b[38;5;124mnumber_sections\u001b[39m\u001b[38;5;124m\"\u001b[39m: true,\n\u001b[1;32m     88\u001b[0m    \u001b[38;5;124m\"\u001b[39m\u001b[38;5;124msideBar\u001b[39m\u001b[38;5;124m\"\u001b[39m: true,\n\u001b[1;32m     89\u001b[0m    \u001b[38;5;124m\"\u001b[39m\u001b[38;5;124mskip_h1_title\u001b[39m\u001b[38;5;124m\"\u001b[39m: false,\n\u001b[1;32m     90\u001b[0m    \u001b[38;5;124m\"\u001b[39m\u001b[38;5;124mtitle_cell\u001b[39m\u001b[38;5;124m\"\u001b[39m: \u001b[38;5;124m\"\u001b[39m\u001b[38;5;124mTable of Contents\u001b[39m\u001b[38;5;124m\"\u001b[39m,\n\u001b[1;32m     91\u001b[0m    \u001b[38;5;124m\"\u001b[39m\u001b[38;5;124mtitle_sidebar\u001b[39m\u001b[38;5;124m\"\u001b[39m: \u001b[38;5;124m\"\u001b[39m\u001b[38;5;124mContents\u001b[39m\u001b[38;5;124m\"\u001b[39m,\n\u001b[1;32m     92\u001b[0m    \u001b[38;5;124m\"\u001b[39m\u001b[38;5;124mtoc_cell\u001b[39m\u001b[38;5;124m\"\u001b[39m: false,\n\u001b[1;32m     93\u001b[0m    \u001b[38;5;124m\"\u001b[39m\u001b[38;5;124mtoc_position\u001b[39m\u001b[38;5;124m\"\u001b[39m: {},\n\u001b[1;32m     94\u001b[0m    \u001b[38;5;124m\"\u001b[39m\u001b[38;5;124mtoc_section_display\u001b[39m\u001b[38;5;124m\"\u001b[39m: true,\n\u001b[1;32m     95\u001b[0m    \u001b[38;5;124m\"\u001b[39m\u001b[38;5;124mtoc_window_display\u001b[39m\u001b[38;5;124m\"\u001b[39m: false\n\u001b[1;32m     96\u001b[0m   }\n\u001b[1;32m     97\u001b[0m  },\n\u001b[1;32m     98\u001b[0m  \u001b[38;5;124m\"\u001b[39m\u001b[38;5;124mnbformat\u001b[39m\u001b[38;5;124m\"\u001b[39m: \u001b[38;5;241m4\u001b[39m,\n\u001b[1;32m     99\u001b[0m  \u001b[38;5;124m\"\u001b[39m\u001b[38;5;124mnbformat_minor\u001b[39m\u001b[38;5;124m\"\u001b[39m: \u001b[38;5;241m5\u001b[39m\n\u001b[1;32m    100\u001b[0m }\n",
      "File \u001b[0;32m~/venvs/Spectral_Clustering_venv/lib/python3.12/site-packages/numpy/ma/core.py:3243\u001b[0m, in \u001b[0;36mMaskedArray.__getitem__\u001b[0;34m(self, indx)\u001b[0m\n\u001b[1;32m   3240\u001b[0m             output\u001b[38;5;241m.\u001b[39mfill_value \u001b[38;5;241m=\u001b[39m fill_value\n\u001b[1;32m   3241\u001b[0m     \u001b[38;5;28;01mreturn\u001b[39;00m output\n\u001b[0;32m-> 3243\u001b[0m \u001b[38;5;28;01mdef\u001b[39;00m \u001b[38;5;21m__getitem__\u001b[39m(\u001b[38;5;28mself\u001b[39m, indx):\n\u001b[1;32m   3244\u001b[0m \u001b[38;5;250m    \u001b[39m\u001b[38;5;124;03m\"\"\"\u001b[39;00m\n\u001b[1;32m   3245\u001b[0m \u001b[38;5;124;03m    x.__getitem__(y) <==> x[y]\u001b[39;00m\n\u001b[1;32m   3246\u001b[0m \n\u001b[1;32m   3247\u001b[0m \u001b[38;5;124;03m    Return the item described by i, as a masked array.\u001b[39;00m\n\u001b[1;32m   3248\u001b[0m \n\u001b[1;32m   3249\u001b[0m \u001b[38;5;124;03m    \"\"\"\u001b[39;00m\n\u001b[1;32m   3250\u001b[0m     \u001b[38;5;66;03m# We could directly use ndarray.__getitem__ on self.\u001b[39;00m\n\u001b[1;32m   3251\u001b[0m     \u001b[38;5;66;03m# But then we would have to modify __array_finalize__ to prevent the\u001b[39;00m\n\u001b[1;32m   3252\u001b[0m     \u001b[38;5;66;03m# mask of being reshaped if it hasn't been set up properly yet\u001b[39;00m\n\u001b[1;32m   3253\u001b[0m     \u001b[38;5;66;03m# So it's easier to stick to the current version\u001b[39;00m\n",
      "\u001b[0;31mKeyboardInterrupt\u001b[0m: "
     ]
    }
   ],
   "source": [
    "siu_deg_day, siv_deg_day = convert_meters_per_second_to_deg_per_day(longitude, latitude , siu_t, siv_t)"
   ]
  },
  {
   "cell_type": "code",
   "execution_count": 12,
   "id": "650bccac-fddb-49ff-bf79-655db326de28",
   "metadata": {},
   "outputs": [],
   "source": [
    "#Go to original dimensions (t,x,y)\n",
    "siu_deg_day = np.transpose(siu_deg_day, (2, 0, 1))\n",
    "siv_deg_day = np.transpose(siv_deg_day, (2, 0, 1))"
   ]
  },
  {
   "cell_type": "markdown",
   "id": "85c061ae-7119-42f1-b22b-5c430dfc253d",
   "metadata": {},
   "source": [
    "## Define the polar stereographic projection"
   ]
  },
  {
   "cell_type": "code",
   "execution_count": null,
   "id": "5c8e25f0-c927-4389-b332-bcce5ecca220",
   "metadata": {},
   "outputs": [],
   "source": [
    "import pyproj\n",
    "\n",
    "# Define the Polar Stereographic projection using the provided proj4 string\n",
    "polar_stereographic_proj = (\n",
    "    '+proj=stere +a=6378273 +b=6356889.5 +lat_0=90 +lat_ts=60 +lon_0=-45 '\n",
    "    '+x_0=1 +y_0=1'\n",
    ")\n",
    "\n",
    "transformer_inv = pyproj.Transformer.from_proj(\n",
    "    proj_from = polar_stereographic_proj,  # Target Polar Stereographic projection\n",
    "    proj_to = 'epsg:4326',  # Source coordinate system (WGS84 Lat/Lon)\n",
    "    always_xy=True\n",
    ")\n",
    "\n",
    "transformer = pyproj.Transformer.from_proj(\n",
    "    proj_from = 'epsg:4326',  # Source coordinate system (WGS84 Lat/Lon)\n",
    "    proj_to = polar_stereographic_proj,  # Target Polar Stereographic projection\n",
    "    always_xy=True\n",
    ")\n",
    "\n",
    "def polar_stereo(a, b, inverse=False):\n",
    "    \"\"\"\n",
    "    Converts longitude (a) and latitude (b) to x (i), y (j) coordinates using the Polar Stereographic projection by default. If inverse=True\n",
    "    then it converts x (a) and y (b) to longitude (i) and latitude (j)\n",
    "\n",
    "    Parameters:\n",
    "    a (float): Latitude in degrees.\n",
    "    b (float): Longitude in degrees.\n",
    "\n",
    "    Returns:\n",
    "    (float, float): i, j coordinates in the Polar Stereographic projection.\n",
    "    \"\"\"\n",
    "\n",
    "    \n",
    "    # Create a pyproj Transformer object for the given projection\n",
    "    if inverse:\n",
    "        # Transformation\n",
    "        i, j = transformer_inv.transform(a, b)\n",
    "    else:\n",
    "        # Transformation\n",
    "        i, j = transformer.transform(a, b)\n",
    "    \n",
    "    return i, j\n"
   ]
  },
  {
   "cell_type": "markdown",
   "id": "e5466370-fd4e-461e-afdb-28fd237b1cfd",
   "metadata": {},
   "source": [
    "# Transforme lat lon data to x y "
   ]
  },
  {
   "cell_type": "code",
   "execution_count": 50,
   "id": "0f709571-0b08-4ad5-bac3-6dfe8c399cdc",
   "metadata": {},
   "outputs": [],
   "source": [
    "x, y = polar_stereo(longitude,latitude, inverse=False)"
   ]
  },
  {
   "cell_type": "markdown",
   "id": "bcbcb2a8-430c-4598-9106-133459924e0e",
   "metadata": {},
   "source": [
    "Check that the inverse function is well written"
   ]
  },
  {
   "cell_type": "code",
   "execution_count": 51,
   "id": "999dd0b6-4cfe-4376-966d-8c2acf3a7ed3",
   "metadata": {},
   "outputs": [],
   "source": [
    "lon, lat = polar_stereo(x,y,inverse=True)"
   ]
  },
  {
   "cell_type": "markdown",
   "id": "0b7b55d6-42d0-4f82-8af6-1bad94ff6ad8",
   "metadata": {},
   "source": [
    "# Transform velocities of the x,y components to velocities of the longitude, latitude components "
   ]
  },
  {
   "cell_type": "markdown",
   "id": "f4ebf339-cd5f-4cd5-917b-e97a667de204",
   "metadata": {},
   "source": [
    "The function \"Jacobian\" computes the numerical Jacobian matrix of a two-dimensional function $f: \\mathbb{R}^2 \\rightarrow \\mathbb{R}^2$. If inverse=True, then it computes the numerical Jacobian of $f^{-1}$\n",
    "$$J=\\begin{pmatrix}\n",
    "\\frac{\\partial f_x}{\\partial x} & \\frac{\\partial f_x}{\\partial y} \\\\\n",
    "\\frac{\\partial f_y}{\\partial x} & \\frac{\\partial f_y}{\\partial y} \n",
    "\\end{pmatrix}$$\n",
    "\n"
   ]
  },
  {
   "cell_type": "code",
   "execution_count": 10,
   "id": "9293e010-8d82-4d81-a4bd-ea26ee148dff",
   "metadata": {},
   "outputs": [],
   "source": [
    "def Jacobian(f, x, y, h=1e-5, inverse=False):\n",
    "    \"\"\"\n",
    "    Compute the numerical Jacobian of a 2D vector function f at point (x, y).\n",
    "\n",
    "    Parameters:\n",
    "    f: function\n",
    "       Function that takes two arguments (x, y) and returns a tuple or list with two elements (f1, f2).\n",
    "    x: float\n",
    "       x-coordinate where the Jacobian is to be evaluated.\n",
    "    y: float\n",
    "       y-coordinate where the Jacobian is to be evaluated.\n",
    "    h: float, optional\n",
    "       Step size for finite differences (default is 1e-5).\n",
    "       \n",
    "    Returns:\n",
    "    J: 2x2 numpy array\n",
    "       Jacobian matrix evaluated at (x, y).\n",
    "    \"\"\"\n",
    "    # Initialize a 2x2 matrix for the Jacobian\n",
    "    J = np.zeros((2, 2))\n",
    "    \n",
    "    # Partial derivatives with respect to x\n",
    "    f_xplus = f(x + h, y, inverse)  # f(x+h, y)\n",
    "    f_xminus = f(x - h, y, inverse)  # f(x-h, y)\n",
    "    J[:, 0] = (np.array(f_xplus) - np.array(f_xminus)) / (2 * h)\n",
    "    \n",
    "    # Partial derivatives with respect to y\n",
    "    f_yplus = f(x, y + h, inverse)  # f(x, y+h)\n",
    "    f_yminus = f(x, y - h, inverse)  # f(x, y-h)\n",
    "    J[:, 1] = (np.array(f_yplus) - np.array(f_yminus)) / (2 * h)\n",
    "    \n",
    "    return J\n"
   ]
  },
  {
   "cell_type": "markdown",
   "id": "b3a3ddc8-fbe0-4cdf-944b-6a3d21449344",
   "metadata": {},
   "source": [
    "Here we use the Jacobian to transform the velocities of the x, and y components to velocities of the longitude and latitude components. For that, we define the function \"vel_trans\" which implements the matrix multiplication\n",
    "$$\n",
    "\\begin{bmatrix}\n",
    "v_{\\text{lat}} \\\\\n",
    "v_{\\text{lon}}\n",
    "\\end{bmatrix}\n",
    "= J \\cdot\n",
    "\\begin{bmatrix}\n",
    "v_x \\\\\n",
    "v_y\n",
    "\\end{bmatrix}$$\n",
    "Resulting Equations\n",
    "$v_{\\text{lat}} = \\frac{\\partial \\text{lat}}{\\partial x} \\cdot v_x + \\frac{\\partial \\text{lat}}{\\partial y} \\cdot v_y$\n",
    "$v_{\\text{lon}} = \\frac{\\partial \\text{lon}}{\\partial x} \\cdot v_x + \\frac{\\partial \\text{lon}}{\\partial y} \\cdot v_y$"
   ]
  },
  {
   "cell_type": "code",
   "execution_count": 53,
   "id": "10f9fabb-ee0e-40e9-856b-ac75692289ea",
   "metadata": {},
   "outputs": [],
   "source": [
    "import sys\n",
    "from timeit import default_timer as timer\n",
    "\n",
    "def vel_transf_loop(J, f, X, Y, siu, siv, h=1e-5, inverse=False):\n",
    "    \n",
    "    siu_transf= siu.copy()\n",
    "    siv_transf= siv.copy()\n",
    "    if np.array_equal(siu.mask, siv.mask)==False:\n",
    "        print(\"siu and siv have different masks!\")\n",
    "        sys.exit(1)\n",
    "    start = timer()\n",
    "    for i in range(siu.shape[0]):\n",
    "        print(i)\n",
    "        for j in range(siu.shape[1]):\n",
    "            for k in range(siu.shape[2]):\n",
    "                if siu.mask[i,j,k]== False:\n",
    "                    siu_transf[i,j,k] = Jacobian(polar_stereo,x[j,k],y[j,k],inverse=inverse)[0,0]#np.array([siu_deg_day[i,j,k],siv_deg_day[i,j,k]]) #np.dot(Jacobian(polar_stereo,x[j,k],y[j,k],inverse=inverse),np.array([siu_deg_day[i,j,k],siv_deg_day[i,j,k]]))\n",
    "            print(j)\n",
    "            end = timer()\n",
    "            print(end - start)\n",
    "            start = timer()\n",
    "    return siu_transf, siv_transf"
   ]
  },
  {
   "cell_type": "code",
   "execution_count": 28,
   "id": "5cd6b85a-4f43-4889-afe8-14369255a3d4",
   "metadata": {},
   "outputs": [],
   "source": [
    "def vel_transf_loop2(J, f, X, Y, siu, siv, h=1e-5, inverse=False):\n",
    "    \n",
    "    siu_transf= siu.copy()\n",
    "    siv_transf= siv.copy()\n",
    "    if np.array_equal(siu.mask, siv.mask)==False:\n",
    "        print(\"siu and siv have different masks!\")\n",
    "        sys.exit(1)\n",
    "    start = timer()\n",
    "        \n",
    "    for j in range(siu.shape[1]):\n",
    "        print(j)\n",
    "        for k in range(siu.shape[2]):\n",
    "            J = Jacobian(polar_stereo,x[j,k],y[j,k],inverse=inverse)\n",
    "            for i in range(siu.shape[0]):\n",
    "                if siu.mask[i,j,k]== False:\n",
    "                    siu_transf[i,j,k], siv_transf[i,j,k] = np.dot(J,np.array([siu_deg_day[i,j,k],siv_deg_day[i,j,k]]))\n",
    "        end = timer()\n",
    "        print(end - start)\n",
    "        start = timer()\n",
    "    return siu_transf, siv_transf"
   ]
  },
  {
   "cell_type": "code",
   "execution_count": null,
   "id": "96345556-e747-4f10-9817-0f867b4e3cfe",
   "metadata": {},
   "outputs": [],
   "source": [
    "siu_pol_deg_day, siv_pol_deg_day = vel_transf_loop(Jacobian, polar_stereo, x, y, siu_deg_day, siv_deg_day, inverse=True)"
   ]
  },
  {
   "cell_type": "code",
   "execution_count": null,
   "id": "f890361e-11ef-4483-b97e-8f044fd9941d",
   "metadata": {},
   "outputs": [],
   "source": [
    "siu_pol_deg_day2, siv_pol_deg_day2 = vel_transf_loop2(Jacobian, polar_stereo, x, y, siu_deg_day, siv_deg_day, inverse=True)"
   ]
  },
  {
   "cell_type": "markdown",
   "id": "402cca95-3d41-426a-a7cf-674676c18d9c",
   "metadata": {},
   "source": [
    "Non masked example:\n",
    "$$i=5 \\hspace{1cm}\n",
    "j=416  \\hspace{1cm}\n",
    "k=286$$"
   ]
  },
  {
   "cell_type": "markdown",
   "id": "ec531f70-e7a7-4105-a16f-51bb82fb83d8",
   "metadata": {},
   "source": [
    "## Relocation of the Npole\n",
    "In this section, we use:\\\n",
    "The rotations around the cartesian axis\n",
    "$$R_x(\\theta) = \\begin{bmatrix} 1 & 0 & 0\\\\ 0 & \\cos\\left(\\theta\\right) & -\\sin\\left(\\theta\\right) \\\\ 0 & \\sin\\left(\\theta\\right)& cos\\left(\\theta \\right)\\end{bmatrix} \\hspace{1cm}\n",
    "R_y(\\theta) = \\begin{bmatrix} \\cos\\left(\\theta\\right) & 0 & \\sin\\left(\\theta\\right)\\\\ 0 & 1 & 0 \\\\ -\\sin\\left(\\theta\\right) & 0 & cos\\left(\\theta \\right)\\end{bmatrix} \\hspace{1cm}\n",
    "R_z(\\theta) = \\begin{bmatrix} \\cos\\left(\\theta\\right) & -\\sin\\left(\\theta\\right) & 0\\\\ \\sin\\left(\\theta\\right) & \\cos\\left(\\theta\\right) & 0 \\\\ 0 & 0 & 1\\end{bmatrix}$$\n",
    "\n",
    "\n",
    "Transformation from cartesian to spherical and viceversa\n",
    "$$\\begin{bmatrix} x \\\\ y \\\\ z \\end{bmatrix} = r \\begin{bmatrix} \\sin(\\theta) \\cos(\\varphi) \\\\ \\sin(\\theta) \\sin(\\varphi) \\\\ \\cos(\\theta) \\end{bmatrix}$$\n"
   ]
  },
  {
   "cell_type": "markdown",
   "id": "27b0818f-e17d-4e27-84b7-e1cf64240b44",
   "metadata": {},
   "source": [
    "Define the positive rotation matrices around the cartesian axis. This means that the rotation is according to the right hand rule. Note that they are defined for the cartesian coordinates"
   ]
  },
  {
   "cell_type": "code",
   "execution_count": 19,
   "id": "e47bab25-54b7-47b5-9c5a-458230eb1ed5",
   "metadata": {},
   "outputs": [],
   "source": [
    "import math\n",
    "def Rx(psi):\n",
    "    return np.matrix([[ 1, 0           , 0           ],\n",
    "                       [ 0, m.cos(psi), -m.sin(psi)],\n",
    "                       [ 0, m.sin(psi), m.cos(psi)]])\n",
    "  \n",
    "def Ry(psi):\n",
    "    return np.matrix([[ m.cos(psi), 0, m.sin(psi)],\n",
    "                       [ 0          , 1, 0          ],\n",
    "                       [-m.sin(psi), 0, m.cos(psi)]])\n",
    "  \n",
    "def Rz(psi):\n",
    "    return np.matrix([[ m.cos(psi), -m.sin(psi), 0 ],\n",
    "                       [ m.sin(psi), m.cos(psi) , 0 ],\n",
    "                       [ 0          , 0           , 1 ]])"
   ]
  },
  {
   "cell_type": "markdown",
   "id": "be3e7537-4ebd-413c-9950-8541c8993889",
   "metadata": {},
   "source": [
    "Define the transformation from spherical to cartiesian coordinates and viceversa"
   ]
  },
  {
   "cell_type": "code",
   "execution_count": 20,
   "id": "12bf3239-4570-48e6-9ad4-496c4b7d04da",
   "metadata": {},
   "outputs": [],
   "source": [
    "def spherical_to_cartesian(r, theta, phi):\n",
    "    \"\"\"\n",
    "    Converts spherical coordinates (r, theta, phi) to Cartesian coordinates (x, y, z).\n",
    "    \n",
    "    Parameters:\n",
    "        r (float): Radial distance\n",
    "        theta (float): Polar angle in radians (0 <= theta <= pi)\n",
    "        phi (float): Azimuthal angle in radians (0 <= phi < 2*pi)\n",
    "        \n",
    "    Returns:\n",
    "        tuple: Cartesian coordinates (x, y, z)\n",
    "    \"\"\"\n",
    "    x = r * math.sin(theta) * math.cos(phi)\n",
    "    y = r * math.sin(theta) * math.sin(phi)\n",
    "    z = r * math.cos(theta)\n",
    "    \n",
    "    return x, y, z\n",
    "\n",
    "def cartesian_to_spherical(x, y, z):\n",
    "    \"\"\"\n",
    "    Converts Cartesian coordinates (x, y, z) to spherical coordinates (r, theta, phi).\n",
    "    \n",
    "    Parameters:\n",
    "        x (float): X-coordinate\n",
    "        y (float): Y-coordinate\n",
    "        z (float): Z-coordinate\n",
    "        \n",
    "    Returns:\n",
    "        tuple: Spherical coordinates (r, theta, phi)\n",
    "    \"\"\"\n",
    "    # Radial distance\n",
    "    #r = math.sqrt(x**2 + y**2 + z**2)\n",
    "    # Radial distance in the surface\n",
    "    earthRadius = 6371*(10**3)\n",
    "    r = earthRadius\n",
    "    \n",
    "    # Polar angle (theta)\n",
    "    theta = math.acos(z / r) if r != 0 else 0  # Handle zero-division at the origin\n",
    "    \n",
    "    # Azimuthal angle (phi)\n",
    "    phi = math.atan2(y, x)  # atan2 handles the correct quadrant for (y, x)\n",
    "    \n",
    "    return r, theta, phi"
   ]
  },
  {
   "cell_type": "markdown",
   "id": "53417f6c-657c-44b1-b279-c1e7fbafffe4",
   "metadata": {},
   "source": [
    "Let's define the complete transformation for $R_y(90^0)$:"
   ]
  },
  {
   "cell_type": "code",
   "execution_count": 26,
   "id": "098837e2-8c96-4300-b466-e7cfd8c1e676",
   "metadata": {},
   "outputs": [],
   "source": [
    "def polar_rotation(long,lat,Rx,psix):\n",
    "    #psix in radiants\n",
    "    # Radius of the earth\n",
    "    earthRadius = 6371*(10**3)\n",
    "    #r = np.full(latitude.shape, earthRadius)\n",
    "    x,y,z = spherical_to_cartesian(earthRadius,degrees_to_radiants(lat),degrees_to_radiants(long))\n",
    "    vect=np.dot(Rx(psix), np.array([[x],[y],[z]]))\n",
    "    return cartesian_to_spherical(vect[0],vect[1],vect[2])\n",
    "    "
   ]
  },
  {
   "cell_type": "markdown",
   "id": "ae75f201",
   "metadata": {},
   "source": [
    "# Unit transformations"
   ]
  },
  {
   "cell_type": "code",
   "execution_count": null,
   "id": "cfda86e6-ba49-4f23-9584-22f7e91a63e7",
   "metadata": {},
   "outputs": [],
   "source": [
    "eq_axis = 6378.1*(10**3) #m\n",
    "eq_rad = 2*math.pi*eq_axis #m; circumference along the equator\n",
    "polar_axis = 6356.8*(10**3) #m\n",
    "polar_rad = 2*math.pi*polar_axis #m; circumference along the NP and SP\n",
    " \n",
    "from math import cos, pi, radians\n",
    "\n",
    "#m to lat_rot\n",
    "\n",
    "def m_to_lat_r(dist_m):\n",
    "    return (dist_m*360/eq_rad)\n",
    "\n",
    "def m_to_lon_r(dist_m,lat_rad):\n",
    "     return cos(radians(lat_rad))*dist_m* 360/polar_rad \n",
    "\n",
    "\n",
    "#m_to_lat_r(111000)\n",
    "m_to_lon_r(polar_rad,0)\n",
    "\n"
   ]
  },
  {
   "cell_type": "code",
   "execution_count": 75,
   "id": "a74b329c",
   "metadata": {},
   "outputs": [],
   "source": [
    "def m_to_deg(Vy, Vx, latitude):\n",
    "\n",
    "    eq_radius = 6378.1*(10**3) #m \n",
    "    eq_circ = 2*math.pi*eq_radius #m; circumference along the equator\n",
    "    polar_radius = 6356.8*(10**3) #m\n",
    "    polar_circ = 2*math.pi*polar_radius #m; circumference along the NP and SP\n",
    "\n",
    "    Vlat = Vy*360/eq_circ\n",
    "    Vlon = np.multiply(np.cos(np.radians(latitude))[:,:,np.newaxis],Vx)*360/polar_circ\n",
    "    \n",
    "    return Vlat, Vlon"
   ]
  },
  {
   "cell_type": "code",
   "execution_count": 82,
   "id": "17bdbe1e",
   "metadata": {},
   "outputs": [],
   "source": [
    "siv_deg, siu_deg = m_to_deg(siv,siu,latitude)"
   ]
  },
  {
   "cell_type": "code",
   "execution_count": null,
   "id": "105a64ae",
   "metadata": {},
   "outputs": [],
   "source": [
    "siu_deg[424,320,0]"
   ]
  },
  {
   "cell_type": "code",
   "execution_count": null,
   "id": "05206dd3",
   "metadata": {},
   "outputs": [],
   "source": [
    "m_to_lon_r(siu[424,320,0],latitude[424,320])"
   ]
  },
  {
   "cell_type": "code",
   "execution_count": null,
   "id": "a41d0fe8",
   "metadata": {},
   "outputs": [],
   "source": [
    "siv_deg[424,320,0]"
   ]
  },
  {
   "cell_type": "code",
   "execution_count": null,
   "id": "06c2f317",
   "metadata": {},
   "outputs": [],
   "source": [
    "m_to_lat_r(siv[424,320,0])"
   ]
  },
  {
   "cell_type": "code",
   "execution_count": null,
   "id": "6ec056b9",
   "metadata": {},
   "outputs": [],
   "source": []
  }
 ],
 "metadata": {
  "kernelspec": {
   "display_name": "Spectral_Clustering_venv",
   "language": "python",
   "name": "python3"
  },
  "language_info": {
   "codemirror_mode": {
    "name": "ipython",
    "version": 3
   },
   "file_extension": ".py",
   "mimetype": "text/x-python",
   "name": "python",
   "nbconvert_exporter": "python",
   "pygments_lexer": "ipython3",
   "version": "3.12.2"
  }
 },
 "nbformat": 4,
 "nbformat_minor": 5
}
