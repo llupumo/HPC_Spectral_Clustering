{
 "cells": [
  {
   "cell_type": "markdown",
   "metadata": {},
   "source": [
    "# The following function computes the similarity matrix and spersifies"
   ]
  },
  {
   "cell_type": "code",
   "execution_count": 8,
   "metadata": {},
   "outputs": [],
   "source": [
    "import numpy as np\n",
    "import sys, os\n",
    "import matplotlib.pyplot as plt\n",
    "from scipy.linalg import eigh\n",
    "\n",
    "# get current directory\n",
    "path = os.getcwd()\n",
    "# get parent directory\n",
    "parent_directory = os.path.sep.join(path.split(os.path.sep)[:-2])\n",
    "sys.path.append(parent_directory+\"/utils\")\n",
    "from ipynb.fs.defs.degrees import degree_matrix\n",
    "from ipynb.fs.defs.degrees import deg_node\n",
    "\n"
   ]
  },
  {
   "cell_type": "code",
   "execution_count": null,
   "metadata": {},
   "outputs": [],
   "source": [
    "from ipynb.fs.defs.degrees import degree_matrix\n",
    "from ipynb.fs.defs.degrees import deg_node\n",
    "def from_similarity_to_eigen(Fmap, W_vec,e,K,k_exp):\n",
    "    n=Fmap.shape[2]\n",
    "    indices = np.tril_indices(n,0,n)\n",
    "    print(\"The percentage of spercified elements is \"+str(np.sum(W_vec < e)/np.sum(W_vec)))\n",
    "    W_vec[W_vec < e] = 0\n",
    "\n",
    "    # Create an empty matrix of zeros with shape (n, n)\n",
    "    W = np.zeros((n, n))\n",
    "    W[indices] = W_vec\n",
    "    # Fill the upper triangular part \n",
    "    W = W + W.T - np.diag(np.diag(W))\n",
    "\n",
    "    D=degree_matrix(W)\n",
    "    indices_to_remove = np.where(D == K)[0]\n",
    "    print(indices_to_remove)\n",
    "    print(str(indices_to_remove.shape)+\" trajectories have been removed because they were not similar to any other trajectories\")\n",
    "\n",
    "    D = np.delete(np.delete(D, indices_to_remove, axis=0), indices_to_remove, axis=1)\n",
    "    W = np.delete(np.delete(W, indices_to_remove, axis=0), indices_to_remove, axis=1)\n",
    "    Fmap = np.delete(Fmap,indices_to_remove, axis=2)\n",
    "\n",
    "    L=D-W\n",
    "  \n",
    "    #Note that D, W, and therefore L, are real symmetric matrices (required for function \"scipy.linalg.eigh\")\n",
    "\n",
    "    print(\"Computing first \"+str(k_exp)+\" eigenvalues\")\n",
    "    l = eigh(L,D,eigvals_only=False,subset_by_index=[0,k_exp-1])\n",
    "    l_vect = l[1]\n",
    "    l = l[0]\n",
    "\n",
    "    diff_l=list(np.diff(l))\n",
    "    k=diff_l.index(max(diff_l))+1\n",
    "\n",
    "    l_vect.shape\n",
    "\n",
    "    #We start by cutting of the eigenspace for the number of clusters we want\n",
    "    # set number of clusters; automatically to k\n",
    "\n",
    "    print(\"k_means clustering\")\n",
    "    print(\"The default number of clusters is \"+str(k))\n",
    "    n_clusters=k\n",
    "\n",
    "    return l_vect,l,Fmap,k"
   ]
  }
 ],
 "metadata": {
  "kernelspec": {
   "display_name": "py_envs",
   "language": "python",
   "name": "python3"
  },
  "language_info": {
   "codemirror_mode": {
    "name": "ipython",
    "version": 3
   },
   "file_extension": ".py",
   "mimetype": "text/x-python",
   "name": "python",
   "nbconvert_exporter": "python",
   "pygments_lexer": "ipython3",
   "version": "3.12.3"
  }
 },
 "nbformat": 4,
 "nbformat_minor": 2
}
