{
 "cells": [
  {
   "cell_type": "code",
   "execution_count": 1,
   "metadata": {},
   "outputs": [],
   "source": [
    "import sys, os\n",
    "import numpy as np\n",
    "#Import packages for geodesic distences\n",
    "from pyproj import Geod\n",
    "# Import package for parallel computing\n",
    "from joblib import Parallel, delayed\n",
    "# Import package for interpolation\n",
    "from scipy.interpolate import griddata"
   ]
  },
  {
   "cell_type": "code",
   "execution_count": 2,
   "metadata": {},
   "outputs": [],
   "source": [
    "def gradient_matrix(IC,labels,i_batch,j_batch,geodesic=False,thereshold=1.5):\n",
    "    w =  []\n",
    "    for k in range(len(i_batch)):\n",
    "        if (k%10000 == 0):\n",
    "            print(k)\n",
    "        s=gradient_labels(IC,labels,i_batch[k],j_batch[k],geodesic,thereshold)\n",
    "        w = np.append(w,s)\n",
    "    return w"
   ]
  },
  {
   "cell_type": "code",
   "execution_count": 3,
   "metadata": {},
   "outputs": [],
   "source": [
    "def gradient_labels(IC, labels, i, j, geodesic , thereshold):\n",
    "    if geodesic==False:\n",
    "        # Compute pairwise distances at each time step\n",
    "        distance = np.linalg.norm(IC[:, i] - IC[:, j])\n",
    "    else:\n",
    "        # Define the WGS84 ellipsoid\n",
    "        geod = Geod(ellps='WGS84')  #equivalent to +b=6356752 +a=6378137'\n",
    "\n",
    "        #Go back to the non-rotated coordinates to compute the geodesic distances\n",
    "        IC[1,:], IC[0,:] = polar_rotation_rx(np.array(IC[1,:]),np.array(IC[0,:]),-90)  #IC[0,:] contains longitudes and IC[1,:] latitudes\n",
    "        distance =  geod.inv(IC[0, i], IC[1, i], IC[0, j], IC[1, j])[2] #distances in m\n",
    "\n",
    "    if distance<=thereshold:\n",
    "        return np.abs(labels[i]-labels[j])\n",
    "    else:\n",
    "        return 0\n"
   ]
  },
  {
   "cell_type": "code",
   "execution_count": 4,
   "metadata": {},
   "outputs": [],
   "source": [
    "def split(a, n):\n",
    "    k, m = divmod(len(a), n)\n",
    "    return (a[i*k+min(i, m):(i+1)*k+min(i+1, m)] for i in range(n))"
   ]
  },
  {
   "cell_type": "code",
   "execution_count": 7,
   "metadata": {},
   "outputs": [],
   "source": [
    "def calculating_borders(IC, labels, geodesic, thereshold, Ncores):\n",
    "    print(\"Preparing the parallel loop to compute the Similarity matrix\") \n",
    "    n = IC.shape[1]\n",
    "\n",
    "    indices = np.tril_indices(n,0,n)\n",
    "\n",
    "    I=indices[0]\n",
    "    J=indices[1]\n",
    "\n",
    "    I_batch = list(split(I, Ncores)) # list (Nx*Ny)\n",
    "    J_batch = list(split(J, Ncores)) # list (Nx*Ny)\n",
    "    print(\"Dimensions of W triangular\")\n",
    "    print(n*n/2+n/2)\n",
    "\n",
    "    print(\"Length of the array with w values\")\n",
    "    print(I_batch[0].shape)\n",
    "\n",
    "    print(\"Computing the similarity matrix with the parallel loop\")\n",
    "    results = Parallel(n_jobs=Ncores, verbose = 10)(delayed(gradient_matrix)(IC, labels, I_batch[i], J_batch[i], geodesic, thereshold) for i in range(len(I_batch)))\n",
    "    gradients = results[0]\n",
    "    for res in results[1:]:\n",
    "        gradients = np.append(gradients, res)\n",
    "    del(results)\n",
    "\n",
    "    # Create an empty matrix of zeros with shape (n, n)\n",
    "    gradients_mx = np.zeros((n, n))\n",
    "    gradients_mx[indices] = gradients\n",
    "    # Fill the upper triangular part \n",
    "    gradients_mx = gradients_mx + gradients_mx.T - np.diag(np.diag(gradients_mx))\n",
    "    #np.fill_diagonal(gradients_mx, 0)\n",
    "    borders = [1 if x!=0 else 0 for x in np.sum(gradients_mx,axis=1)]\n",
    "\n",
    "    return borders"
   ]
  }
 ],
 "metadata": {
  "kernelspec": {
   "display_name": "Spectral_Clustering_venv",
   "language": "python",
   "name": "python3"
  },
  "language_info": {
   "codemirror_mode": {
    "name": "ipython",
    "version": 3
   },
   "file_extension": ".py",
   "mimetype": "text/x-python",
   "name": "python",
   "nbconvert_exporter": "python",
   "pygments_lexer": "ipython3",
   "version": "3.12.2"
  }
 },
 "nbformat": 4,
 "nbformat_minor": 2
}
