{
 "cells": [
  {
   "cell_type": "markdown",
   "metadata": {},
   "source": [
    "This funtions build the similarity matrix in a vector format. The first is parallelized whereas the second is not."
   ]
  },
  {
   "cell_type": "code",
   "execution_count": 5,
   "metadata": {},
   "outputs": [],
   "source": [
    "import sys, os\n",
    "import numpy as np\n",
    "\n",
    "# get current directory\n",
    "path = os.getcwd()\n",
    "# get parent directory\n",
    "parent_directory = os.path.sep.join(path.split(os.path.sep)[:-2])\n",
    "\n",
    "# add utils and subfunctions folders to current working path\n",
    "sys.path.append(parent_directory+\"/subfunctions/latlon_transform\")\n",
    "sys.path.append(parent_directory+\"/subfunctions/Similarity_matrix_construction\")\n",
    "\n",
    "# Import function for the polar rotation\n",
    "from ipynb.fs.defs.polar_rotation import polar_rotation_rx \n",
    "# Import function to compute pairwise distances between trajectories\n",
    "from ipynb.fs.defs.trajectory_distance import integral_vec"
   ]
  },
  {
   "cell_type": "code",
   "execution_count": 6,
   "metadata": {},
   "outputs": [],
   "source": [
    "def similarity_matrix(Fmap,i_batch,j_batch,K,time,geodesic):\n",
    "    w =  []\n",
    "    for k in range(len(i_batch)):\n",
    "        if (k%int(len(i_batch)/2) == 0):\n",
    "            print(k)\n",
    "        if i_batch[k] == j_batch[k] :  #diagonal elements (same trajectory)\n",
    "            w = np.append(w,K)\n",
    "        else:\n",
    "            s=integral_vec(Fmap,time,i_batch[k],j_batch[k],geodesic)\n",
    "            if s==0:                     #null disatnce between trajectories\n",
    "                w = np.append(w,K)\n",
    "            else:\n",
    "                w = np.append(w,(1/s))\n",
    "\n",
    "    #print(\"number of s = 0 is \"+ str(m))\n",
    "    #print(\"number of diagonals is \"+ str(n))\n",
    "        \n",
    "    return w\n"
   ]
  }
 ],
 "metadata": {
  "kernelspec": {
   "display_name": "Spectral_Clustering_venv",
   "language": "python",
   "name": "python3"
  },
  "language_info": {
   "codemirror_mode": {
    "name": "ipython",
    "version": 3
   },
   "file_extension": ".py",
   "mimetype": "text/x-python",
   "name": "python",
   "nbconvert_exporter": "python",
   "pygments_lexer": "ipython3",
   "version": "3.12.2"
  }
 },
 "nbformat": 4,
 "nbformat_minor": 2
}
