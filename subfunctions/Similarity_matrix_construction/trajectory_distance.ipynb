{
 "cells": [
  {
   "cell_type": "markdown",
   "id": "3b098579",
   "metadata": {},
   "source": [
    "# Pairwise trajectory distance Integral\n",
    "\n",
    "This Jupyter Notebook demonstrates the implementation of the `integral_vec` function which calculates the integral of the distance between two points across a time interval using the trapezoidal rule. \n",
    "\n",
    "The integral represents the accumulated distance between two points `i` and `j` over time steps defined in `Fmap` and `timemap`. The function calculates pairwise distances at each time step and applies the trapezoidal rule to estimate the total integral.\n",
    "\n",
    "The function also measures and prints the execution time for performance tracking.\n",
    "\n",
    "### Steps in the Function:\n",
    "1. **Pairwise Distance Calculation**: Compute the Euclidean distance between the points at consecutive time steps.\n",
    "2. **Time Differences**: Compute the difference between consecutive time steps.\n",
    "3. **Trapezoidal Rule**: The distances are multiplied by the time differences and summed to estimate the integral.\n",
    "4. **Performance Timing**: The time taken to execute the function is printed.\n"
   ]
  },
  {
   "cell_type": "markdown",
   "id": "3a4b9e9d",
   "metadata": {},
   "source": [
    "\n",
    "Given the map $Fmap \\in [m-1\\times 2\\times n]$, where $m$ is the number of timesteps and $n$ the number of trajectories. The second dimension inholds the x and y positions. We define the distance between each pair of trajectories $n_1$ and $n_2$ as follows\n",
    "\n",
    "$$D(n1,n2)=\\frac{1}{t_{m-1}-t_0}\\sum_{k=0}^{m-2}\\frac{t_{k+1}-t_k}{2}\\Big[ dist\\Big(F(k+1,:,n_2),F(k+1,:,n_1)\\Big)+dist\\Big(F(k,:,n_2),F(k,:,n_1)\\Big)\\Big]$$\n",
    "We choose the Euclidian distance\n",
    "$dist\\Big(F(k,:,n_2),F(k,:,n_1)\\Big)= \\sqrt{\\Big(F(k,x,n_2) - F(k,x,n_1)\\Big)^2 + \\Big(F(k,y,n_2) - F(k,y,n_1)\\Big)^2}\n",
    "$\n",
    "\n",
    "\n",
    "Package to check for geodesics and great circles!! pyproj https://pyproj4.github.io/pyproj/stable/api/geod.html#pyproj.Geod"
   ]
  },
  {
   "cell_type": "code",
   "execution_count": 6,
   "id": "94692662",
   "metadata": {},
   "outputs": [],
   "source": [
    "import numpy as np\n",
    "import time\n",
    "import sys, os\n",
    "from pyproj import Geod\n",
    "\n",
    "# get current directory\n",
    "path = os.getcwd()\n",
    "# get parent directory\n",
    "parent_directory = os.path.sep.join(path.split(os.path.sep)[:-2])\n",
    "# add utils and subfunctions folders to current working path\n",
    "sys.path.append(parent_directory+\"/subfunctions/latlon_transform\")\n",
    "# Import function for the polar rotation\n",
    "from polar_rotation import polar_rotation_rx \n",
    "\n"
   ]
  },
  {
   "cell_type": "markdown",
   "id": "7af617b2",
   "metadata": {},
   "source": [
    "\n",
    "Given the map $Fmap \\in [m-1\\times 2\\times n]$, where $m$ is the number of timesteps and $n$ the number of trajectories. The second dimension inholds the x and y positions. We define the distance between each pair of trajectories $n_1$ and $n_2$ as follows\n",
    "\n",
    "$$D(n1,n2)=\\frac{1}{t_{m-1}-t_0}\\sum_{k=0}^{m-2}\\frac{t_{k+1}-t_k}{2}\\Big[ dist\\Big(F(k+1,:,n_2),F(k+1,:,n_1)\\Big)+dist\\Big(F(k,:,n_2),F(k,:,n_1)\\Big)\\Big]$$\n",
    "We choose the Euclidian distance\n",
    "$dist\\Big(F(k,:,n_2),F(k,:,n_1)\\Big)= \\sqrt{\\Big(F(k,x,n_2) - F(k,x,n_1)\\Big)^2 + \\Big(F(k,y,n_2) - F(k,y,n_1)\\Big)^2}\n",
    "$\n",
    "\n",
    "\n",
    "Package to check for geodesics and great circles!! pyproj https://pyproj4.github.io/pyproj/stable/api/geod.html#pyproj.Geod"
   ]
  },
  {
   "cell_type": "code",
   "execution_count": 5,
   "id": "623147d2",
   "metadata": {},
   "outputs": [],
   "source": [
    "def integral_vec(Fmap, timemap, i, j, geodesic = False):\n",
    "\n",
    "    #start_time = time.time()  # Start the timer\n",
    "    dT = timemap[-1]-timemap[0]\n",
    "\n",
    "    if geodesic==False:\n",
    "        # Compute pairwise distances at each time step\n",
    "        distances = np.linalg.norm(Fmap[1:, :, i] - Fmap[1:, :, j], axis=1) + np.linalg.norm(Fmap[:-1, :, i] - Fmap[:-1, :, j], axis=1)\n",
    "    else:\n",
    "        # Define the WGS84 ellipsoid\n",
    "        geod = Geod(ellps='WGS84')  #equivalent to +b=6356752 +a=6378137'\n",
    "\n",
    "        #Go back to the non-rotated coordinates to compute the geodesic distances\n",
    "        Fmap_lat,Fmap_lon = polar_rotation_rx(np.array(Fmap[:,1,:]),np.array(Fmap[:,0,:]),-90)  #Fmap[:,0,:] contains longitudes and Fmap[:,1,:] latitudes\n",
    "        distances =  geod.inv(Fmap_lon[1:, i], Fmap_lat[1:, i], Fmap_lon[1:, j], Fmap_lat[1:, j])[2] + geod.inv(Fmap_lon[:-1, i], Fmap_lat[:-1, i], Fmap_lon[:-1, j], Fmap_lat[:-1, j])[2]  #distances in m\n",
    "    \n",
    "    # Compute time differences\n",
    "    time_deltas = timemap[1:] - timemap[:-1]\n",
    "    \n",
    "    # Multiply by time and sum\n",
    "    result = np.sum((time_deltas / 2) * distances)/dT\n",
    "    \n",
    "    #end_time = time.time()  # End the timer\n",
    "    \n",
    "    # Print the time taken\n",
    "    #print(f\"Execution time: {end_time - start_time:.6f} seconds\")\n",
    "    \n",
    "    return result\n"
   ]
  }
 ],
 "metadata": {
  "kernelspec": {
   "display_name": "Spectral_Clustering_venv",
   "language": "python",
   "name": "python3"
  },
  "language_info": {
   "codemirror_mode": {
    "name": "ipython",
    "version": 3
   },
   "file_extension": ".py",
   "mimetype": "text/x-python",
   "name": "python",
   "nbconvert_exporter": "python",
   "pygments_lexer": "ipython3",
   "version": "3.12.2"
  }
 },
 "nbformat": 4,
 "nbformat_minor": 5
}
