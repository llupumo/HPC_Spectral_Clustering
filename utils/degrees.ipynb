{
 "cells": [
  {
   "cell_type": "markdown",
   "metadata": {},
   "source": [
    "This notebook contains the necessary functions to compute the degree of a matrix"
   ]
  },
  {
   "cell_type": "code",
   "execution_count": 6,
   "metadata": {},
   "outputs": [],
   "source": [
    "import numpy as np"
   ]
  },
  {
   "cell_type": "code",
   "execution_count": 41,
   "metadata": {},
   "outputs": [],
   "source": [
    "def deg_node(W,i):\n",
    "    return sum(W[:,i])"
   ]
  },
  {
   "cell_type": "code",
   "execution_count": 33,
   "metadata": {},
   "outputs": [],
   "source": [
    "def degree_matrix(W):\n",
    "    return np.diag(deg_node(W,np.arange(W.shape[0])))"
   ]
  },
  {
   "cell_type": "code",
   "execution_count": 20,
   "metadata": {},
   "outputs": [],
   "source": [
    "def degree_matrix_old(W):\n",
    "    n=W.shape[1]\n",
    "    D = np.zeros((n,n))\n",
    "    for i in range(D.shape[0]):\n",
    "        D[i,i]=deg_node(W,i)\n",
    "    return D\n"
   ]
  },
  {
   "cell_type": "markdown",
   "metadata": {},
   "source": [
    "# Test with a symmetric matrix"
   ]
  },
  {
   "cell_type": "code",
   "execution_count": 38,
   "metadata": {},
   "outputs": [],
   "source": [
    "# Define the size of the matrix\n",
    "rows, cols = 5, 5\n",
    "\n",
    "# Generate the random matrix with integers in the range [0, 10)\n",
    "r = np.random.randint(0, 10, size=(rows, cols))\n",
    "s = (r+r.T)"
   ]
  },
  {
   "cell_type": "code",
   "execution_count": 26,
   "metadata": {},
   "outputs": [
    {
     "data": {
      "text/plain": [
       "array([[16,  2,  7,  9, 10],\n",
       "       [ 2, 14,  8,  3,  8],\n",
       "       [ 7,  8, 16,  5,  6],\n",
       "       [ 9,  3,  5,  0, 14],\n",
       "       [10,  8,  6, 14,  4]])"
      ]
     },
     "execution_count": 26,
     "metadata": {},
     "output_type": "execute_result"
    }
   ],
   "source": [
    "s"
   ]
  },
  {
   "cell_type": "code",
   "execution_count": 42,
   "metadata": {},
   "outputs": [],
   "source": [
    "d=degree_matrix(s)"
   ]
  },
  {
   "cell_type": "code",
   "execution_count": 36,
   "metadata": {},
   "outputs": [
    {
     "data": {
      "text/plain": [
       "array([[44,  0,  0,  0,  0],\n",
       "       [ 0, 35,  0,  0,  0],\n",
       "       [ 0,  0, 42,  0,  0],\n",
       "       [ 0,  0,  0, 31,  0],\n",
       "       [ 0,  0,  0,  0, 42]])"
      ]
     },
     "execution_count": 36,
     "metadata": {},
     "output_type": "execute_result"
    }
   ],
   "source": [
    "d"
   ]
  },
  {
   "cell_type": "code",
   "execution_count": 30,
   "metadata": {},
   "outputs": [],
   "source": [
    "d_old=degree_matrix_old(s)"
   ]
  },
  {
   "cell_type": "code",
   "execution_count": 31,
   "metadata": {},
   "outputs": [
    {
     "data": {
      "text/plain": [
       "array([[44.,  0.,  0.,  0.,  0.],\n",
       "       [ 0., 35.,  0.,  0.,  0.],\n",
       "       [ 0.,  0., 42.,  0.,  0.],\n",
       "       [ 0.,  0.,  0., 31.,  0.],\n",
       "       [ 0.,  0.,  0.,  0., 42.]])"
      ]
     },
     "execution_count": 31,
     "metadata": {},
     "output_type": "execute_result"
    }
   ],
   "source": [
    "d_old"
   ]
  },
  {
   "cell_type": "code",
   "execution_count": null,
   "metadata": {},
   "outputs": [],
   "source": []
  }
 ],
 "metadata": {
  "kernelspec": {
   "display_name": "py_envs",
   "language": "python",
   "name": "python3"
  },
  "language_info": {
   "codemirror_mode": {
    "name": "ipython",
    "version": 3
   },
   "file_extension": ".py",
   "mimetype": "text/x-python",
   "name": "python",
   "nbconvert_exporter": "python",
   "pygments_lexer": "ipython3",
   "version": "3.12.3"
  }
 },
 "nbformat": 4,
 "nbformat_minor": 2
}
