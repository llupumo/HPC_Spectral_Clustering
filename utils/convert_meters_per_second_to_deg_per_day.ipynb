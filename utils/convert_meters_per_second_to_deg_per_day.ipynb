{
 "cells": [
  {
   "cell_type": "markdown",
   "id": "cc572ad5",
   "metadata": {},
   "source": [
    "The units of the velocity field must match the units of the grid coordinates and time. Oceanographic velocity fields are often given in the units $ \\dfrac{\\mathrm{meters}}{\\mathrm{second}} (= \\dfrac{m}{s})$, whereas the grid and time coordinates are respectively given in degrees (=deg) and days (d). We account for this mismatch by converting the units of the velocity field to $ \\dfrac{\\mathrm{deg}}{\\mathrm{d}} $:\n",
    "$$\n",
    "\\begin{align}\n",
    "\\dot{\\varphi} &= \\dfrac{U}{R\\cos(\\theta)}\\dfrac{180 \\cdot 24 \\cdot 3600}{\\pi} \\tag{1} \\\\\n",
    "\\dot{\\theta} &= \\dfrac{V}{R}\\dfrac{180 \\cdot 24 \\cdot 3600}{\\pi} \\tag{2},\n",
    "\\end{align}$$\n",
    " where  $\\varphi, \\theta $ respectively are the longitudinal and latitudinal position of the particle, $ U, V $ are the x/y-component of the velocity field in $ \\dfrac{m}{s} $. $ \\mathrm{R} $ is the radius of the earth (in $ \\mathrm{m} $) and $ \\dot{\\varphi} $ and $ \\dot{\\theta} $ are then respectively the x/y-component of the velocity field in ($ \\dfrac{\\mathrm{deg}}{\\mathrm{d}} $)."
   ]
  },
  {
   "cell_type": "code",
   "execution_count": 1,
   "id": "bcbca8d8",
   "metadata": {
    "code_folding": [
     0
    ]
   },
   "outputs": [],
   "source": [
    "def convert_meters_per_second_to_deg_per_day(X, Y, U_ms, V_ms):\n",
    "    \n",
    "    '''\n",
    "    Converts units of velocity from m/s to deg/day. The units of the velocity field must \n",
    "    match the units of the grid coordinates and time.\n",
    "    \n",
    "    Parameters:\n",
    "        X:       array(Ny, Nx), X-meshgrid.\n",
    "        Y:       array(Ny, Nx), Y-meshgrid.\n",
    "        U_ms:    array(Ny, Nx, Nt), x-component of velocity field in m/s\n",
    "        V_ms:    array(Ny, Nx, Nt), y-component of velocity field in m/s\n",
    "         \n",
    "    Returns:\n",
    "        U_degday:    array(Ny, Nx, Nt), x-component of velocity field in deg/day\n",
    "        V_degday:    array(Ny, Nx, Nt), y-component of velocity field in deg/day\n",
    "    '''\n",
    "    \n",
    "    # import numpy\n",
    "    import numpy as np\n",
    "    \n",
    "    # import math tools\n",
    "    from math import cos, pi\n",
    "    \n",
    "    # Velocity field\n",
    "    U_degday, V_degday = np.nan*U_ms.copy(), np.nan*V_ms.copy()\n",
    "    \n",
    "    # Radius of the earth\n",
    "    earthRadius = 6371*(10**3)\n",
    "    \n",
    "    # Iterate over grid\n",
    "    for i in range(X.shape[0]):\n",
    "        for j in range(Y.shape[1]):\n",
    "            U_degday[i, j, :] = (U_ms[i, j, :] / (cos(Y[i,j]*(pi/180))*(earthRadius)))*180*3600*24/pi\n",
    "            V_degday[i, j, :] = (V_ms[i, j, :] / earthRadius)*180*3600*24/pi\n",
    "\n",
    "    return U_degday, V_degday"
   ]
  },
  {
   "cell_type": "markdown",
   "id": "4a3fcf7b",
   "metadata": {},
   "source": [
    "Now for the rotated system. Here we use \n",
    "\n",
    "    eq_radius = 6378.1*(10**3) #m \n",
    "    eq_circ = 2*math.pi*eq_radius #m; circumference along the equator\n",
    "    polar_radius = 6356.8*(10**3) #m\n",
    "    polar_circ = 2*math.pi*polar_radius #m; circumference along the NP and SP"
   ]
  },
  {
   "cell_type": "code",
   "execution_count": 3,
   "id": "73ff400a",
   "metadata": {},
   "outputs": [],
   "source": [
    "import numpy as np\n",
    "from numpy import pi\n",
    "def m_to_deg_r(V_mday, U_mday, latitude):\n",
    "\n",
    "    '''\n",
    "    Converts units of velocity from m/day to deg/day. The units of the velocity field must \n",
    "    match the units of the grid coordinates and time. We account for the degrees of the rotated coordinate system. Therefore we account for the difference between the equator circumference and the polar circumference. The operations are optimized with \n",
    "    numpy array multiplication\n",
    "    \n",
    "    Parameters:\n",
    "        latitude:  array(Ny, Nx), Y-meshgrid storing the latitudes\n",
    "        V_mday:    array(Ny, Nx, Nt), lat-component of velocity field in m/day\n",
    "        U_mday:    array(Ny, Nx, Nt), lon-component of velocity field in m/day\n",
    "        \n",
    "         \n",
    "    Returns:\n",
    "        V_degday:    array(Ny, Nx, Nt), lat-component of velocity field in deg/day\n",
    "        U_degday:    array(Ny, Nx, Nt), lon-component of velocity field in deg/day\n",
    "    '''\n",
    "\n",
    "    eq_radius = 6378.1*(10**3) #m \n",
    "    eq_circ = 2*pi*eq_radius #m; circumference along the equator\n",
    "    polar_radius = 6356.8*(10**3) #m\n",
    "    polar_circ = 2*pi*polar_radius #m; circumference along the NP and SP\n",
    "\n",
    "    V_degday = V_mday*360/eq_circ #polar_circ\n",
    "    U_degday = np.multiply(np.cos(np.radians(latitude))[:,:,np.newaxis],U_mday)*360/eq_circ\n",
    "    \n",
    "    \n",
    "    return V_degday, U_degday"
   ]
  }
 ],
 "metadata": {
  "kernelspec": {
   "display_name": "Spectral_Clustering_venv",
   "language": "python",
   "name": "python3"
  },
  "language_info": {
   "codemirror_mode": {
    "name": "ipython",
    "version": 3
   },
   "file_extension": ".py",
   "mimetype": "text/x-python",
   "name": "python",
   "nbconvert_exporter": "python",
   "pygments_lexer": "ipython3",
   "version": "3.12.2"
  },
  "toc": {
   "base_numbering": 1,
   "nav_menu": {},
   "number_sections": true,
   "sideBar": true,
   "skip_h1_title": false,
   "title_cell": "Table of Contents",
   "title_sidebar": "Contents",
   "toc_cell": false,
   "toc_position": {},
   "toc_section_display": true,
   "toc_window_display": false
  }
 },
 "nbformat": 4,
 "nbformat_minor": 5
}
