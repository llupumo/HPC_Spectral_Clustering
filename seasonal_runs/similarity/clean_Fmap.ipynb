{
 "cells": [
  {
   "cell_type": "code",
   "execution_count": 3,
   "metadata": {},
   "outputs": [],
   "source": [
    "#!/usr/bin/env pythonP\n",
    "# coding: utf-8\n",
    "\n",
    "import netCDF4 as nc\n",
    "import sys, os, argparse\n",
    "import time\n",
    "import numpy as np\n",
    "from numpy import ma as ma\n",
    "from itertools import combinations\n",
    "\n",
    "#Import packages for plotting\n",
    "from matplotlib import pyplot as plt\n",
    "from matplotlib import colors as mcolors\n",
    "import matplotlib.animation as animation\n",
    "from matplotlib.ticker import MaxNLocator\n",
    "from matplotlib.colors import ListedColormap\n",
    "from pylab import imshow,cm\n",
    "import cartopy.crs as ccrs \n",
    "import cartopy.feature as cfeature  \n",
    "\n",
    "#Import packages for clustering\n",
    "from sklearn.cluster import KMeans\n",
    "from k_means_constrained import KMeansConstrained\n",
    "from scipy.linalg import eigh\n",
    "\n",
    "#Import packages for geodesic distences\n",
    "from pyproj import Geod\n",
    "\n",
    "\n",
    "#Import packages for interpolating and filtering data\n",
    "from scipy.spatial import ConvexHull, convex_hull_plot_2d\n",
    "from scipy.interpolate import LinearNDInterpolator as LNDI\n",
    "\n",
    "# Import package for parallel computing\n",
    "from joblib import Parallel, delayed\n"
   ]
  },
  {
   "cell_type": "code",
   "execution_count": 4,
   "metadata": {},
   "outputs": [],
   "source": [
    "\n",
    "parent_directory = \"/cluster/home/llpui9007/Programs/HPC_Spectral_Clustering\"\n",
    "# add utils folder to the TBarrier package\n",
    "#sys.path.append(T_Barrier_directory+\"/subfunctions/utils\")\n",
    "#sys.path.append(T_Barrier_directory+\"/subfunctions/integration\")\n",
    "# add utils folder to current working path\n",
    "sys.path.append(parent_directory+\"/subfunctions/Similarity_matrix_clustering\")\n",
    "sys.path.append(parent_directory+\"/utils\")\n",
    "sys.path.append(parent_directory+\"/subfunctions/Parallelisation\")\n",
    "sys.path.append(parent_directory+\"/subfunctions/latlon_transform\") \n",
    "from parallelised_functions import split3D\n",
    "\n",
    "sys.path.append(parent_directory+\"/subfunctions/trajectory_advection\")\n",
    "from Interpolant import generate_land_ocean_interpolant, parallel_interpolant_unsteady_land_ocean_mask\n",
    "from velocity import land_mask_t\n",
    "\n",
    "\n"
   ]
  },
  {
   "cell_type": "code",
   "execution_count": 5,
   "metadata": {},
   "outputs": [
    {
     "name": "stdout",
     "output_type": "stream",
     "text": [
      "Reading data\n"
     ]
    }
   ],
   "source": [
    "IC_resolution = 0.5\n",
    "dt = 0.0025\n",
    "DT = 0.1\n",
    "freq = 1\n",
    "e = 0\n",
    "n_clusters = 20\n",
    "# Format the variables\n",
    "formatted_e = f\"{e:.2f}\"\n",
    "formatted_DT = f\"{DT:.4f}\"\n",
    "formatted_dt = f\"{dt:.4f}\"\n",
    "# Define other necessary variables\n",
    "year = 2009\n",
    "season = \"AMJ\"\n",
    "# Construct file paths and directories\n",
    "Fmap_params = f\"{year}_{season}_\"\n",
    "Fmap_params += f\"ic{IC_resolution}_\"\n",
    "Fmap_params += f\"dt{formatted_dt}_\"\n",
    "Fmap_params += f\"DT{formatted_DT}\"\n",
    "directory =  f\"/cluster/projects/nn8008k/lluisa/NextSIM/seas/\" #f\"/nird/projects/NS11048K/lluisa/NextSIM/rotated_ice_velocities/seas/AMJ/\"\n",
    "file_path = f\"{directory}Fmap/{Fmap_params}/\"\n",
    "parent_directory = \"/cluster/home/llpui9007/Programs/HPC_Spectral_Clustering\"\n",
    "results_directory = file_path\n",
    "regrided_geo_file_path = f\"{directory}OPA-neXtSIM_CREG025_ILBOXE140_{year}_ice_90Rx_{season}_regrided.nc\"\n",
    "geo_file_path = f\"{directory}OPA-neXtSIM_CREG025_ILBOXE140_{year}_ice_90Rx_{season}.nc\"\n",
    "K=1000\n",
    "distance = 4\n",
    "k_exp = 100\n",
    "\n",
    "\n",
    "if not os.path.exists(results_directory):\n",
    "    os.makedirs(results_directory)\n",
    "\n",
    "print(\"Reading data\")\n",
    "#Read input data\n",
    "Fmap_path = file_path+'/Fmap_matrix.npy'\n",
    "time_path = file_path+'/advection_time.npy'\n",
    "W_path = file_path+'/W_matrix.npy'\n",
    "\n",
    "# Load the Fmap array from the file\n",
    "Fmap = np.load(Fmap_path)  # ntime [lon,lat] ntrajectories\n",
    "#Fmap=Fmap[:,:,::100]\n",
    "# Load the time_adv_mod array from the file\n",
    "time_adv_mod = np.load(time_path)\n",
    "# Load the similarity matrix\n",
    "W_vec = np.load(W_path)\n",
    "\n",
    "dataset = nc.Dataset(regrided_geo_file_path, mode='r')\n",
    "#from m/s to m/day\n",
    "siu = dataset.variables['vlon'][:,:,:]\n",
    "siu = np.transpose(siu, axes=(1, 2, 0))\n",
    "land_mask_reg = dataset.variables['land_mask'][:,:]\n",
    "# Access coordinates\n",
    "lat_grid = dataset.variables['regrided_rot_lat'][:]  \n",
    "lon_grid = dataset.variables['regrided_rot_lon'][:]\n",
    "# Access specific variables\n",
    "time_data = dataset.variables['time'][:] \n",
    "dataset.close()\n"
   ]
  },
  {
   "cell_type": "code",
   "execution_count": 6,
   "metadata": {},
   "outputs": [
    {
     "name": "stdout",
     "output_type": "stream",
     "text": [
      "Generate interpolators for the advection\n",
      "Time taken for parallel computation to generate the velocity interpolator objects: 4.10 seconds\n"
     ]
    }
   ],
   "source": [
    "land_ocean_mask = np.copy(siu)\n",
    "land_ocean_mask[land_ocean_mask != 0] = 1\n",
    "Interpolant_land_mask = generate_land_ocean_interpolant(land_ocean_mask,lon_grid,lat_grid,10)\n",
    "\n",
    "# Periodic boundary conditions\n",
    "periodic_x = False\n",
    "periodic_y = False\n",
    "periodic_t = False\n",
    "periodic = [periodic_x, periodic_y, periodic_t]\n",
    "\n",
    "# Unsteady velocity field\n",
    "bool_unsteady = True\n",
    "l=[]\n",
    "for i in range(time_adv_mod.shape[0]):\n",
    "    l.append(land_mask_t(time_adv_mod[i], Fmap[i], lon_grid, lat_grid, Interpolant_land_mask, periodic, bool_unsteady, time_data, linear = False))\n",
    "\n",
    "kill_trajectories = np.where(np.sum(l,axis=0)!=len(l))[0] #The trajectories that not have true (1) all the time don't reach the number of timesteps and therefore have to be removed\n"
   ]
  },
  {
   "cell_type": "code",
   "execution_count": 8,
   "metadata": {},
   "outputs": [
    {
     "data": {
      "text/plain": [
       "array([-72.40638733, -37.97213745])"
      ]
     },
     "execution_count": 8,
     "metadata": {},
     "output_type": "execute_result"
    }
   ],
   "source": [
    "Fmap[0,:,0]"
   ]
  },
  {
   "cell_type": "code",
   "execution_count": 9,
   "metadata": {},
   "outputs": [
    {
     "data": {
      "text/plain": [
       "(908, 2, 3851)"
      ]
     },
     "execution_count": 9,
     "metadata": {},
     "output_type": "execute_result"
    }
   ],
   "source": [
    "Fmap.shape"
   ]
  },
  {
   "cell_type": "code",
   "execution_count": 8,
   "metadata": {},
   "outputs": [],
   "source": [
    "n=Fmap.shape[2]\n",
    "Fmap_cleaned = np.delete(Fmap,kill_trajectories,axis=2)\n",
    "n_cleaned=Fmap_cleaned.shape[2]"
   ]
  },
  {
   "cell_type": "code",
   "execution_count": 11,
   "metadata": {},
   "outputs": [],
   "source": [
    "def cleaner(n,n_cleaned,kill_trajectories,W_vec):\n",
    "    indices = np.tril_indices(n,0,n)\n",
    "    # Create an empty matrix of zeros with shape (n, n)\n",
    "    W = np.zeros((n, n))\n",
    "    W[indices] = W_vec\n",
    "    # Fill the upper triangular part \n",
    "    W = W + W.T - np.diag(np.diag(W))\n",
    "    W_cleaned = np.delete(W,kill_trajectories,axis=0)\n",
    "    W_cleaned = np.delete(W_cleaned,kill_trajectories,axis=1)\n",
    "    indices_cleaned = np.tril_indices(n_cleaned,0,n_cleaned)\n",
    "    W_vec_cleaned = W_cleaned[indices_cleaned]\n",
    "    return W_vec_cleaned"
   ]
  },
  {
   "cell_type": "code",
   "execution_count": 12,
   "metadata": {},
   "outputs": [],
   "source": [
    "W_vec_cleaned = cleaner(n,n_cleaned,kill_trajectories,W_vec)"
   ]
  },
  {
   "cell_type": "code",
   "execution_count": 7,
   "metadata": {},
   "outputs": [
    {
     "data": {
      "text/plain": [
       "Text(0, 0.5, 'Number of trajectories that die')"
      ]
     },
     "execution_count": 7,
     "metadata": {},
     "output_type": "execute_result"
    },
    {
     "data": {
      "image/png": "[encoded data removed]",
      "text/plain": [
       "<Figure size 640x480 with 1 Axes>"
      ]
     },
     "metadata": {},
     "output_type": "display_data"
    }
   ],
   "source": [
    "plt.plot(l[0].shape[0]-np.sum(l,axis=1),\".\")\n",
    "plt.xlabel(\"Time step\")\n",
    "plt.ylabel(\"Number of trajectories that die\")"
   ]
  }
 ],
 "metadata": {
  "kernelspec": {
   "display_name": "my_venv",
   "language": "python",
   "name": "python3"
  },
  "language_info": {
   "codemirror_mode": {
    "name": "ipython",
    "version": 3
   },
   "file_extension": ".py",
   "mimetype": "text/x-python",
   "name": "python",
   "nbconvert_exporter": "python",
   "pygments_lexer": "ipython3",
   "version": "3.10.8"
  }
 },
 "nbformat": 4,
 "nbformat_minor": 2
}
